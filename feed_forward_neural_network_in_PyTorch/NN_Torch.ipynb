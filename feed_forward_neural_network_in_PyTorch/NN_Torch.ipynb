{
  "nbformat": 4,
  "nbformat_minor": 0,
  "metadata": {
    "colab": {
      "name": "NN_Torch.ipynb",
      "provenance": [],
      "collapsed_sections": [],
      "toc_visible": true,
      "authorship_tag": "ABX9TyN3LYkEuHCqocEG9w1C96PP",
      "include_colab_link": true
    },
    "kernelspec": {
      "name": "python3",
      "display_name": "Python 3"
    },
    "language_info": {
      "name": "python"
    }
  },
  "cells": [
    {
      "cell_type": "markdown",
      "metadata": {
        "id": "view-in-github",
        "colab_type": "text"
      },
      "source": [
        "<a href=\"https://colab.research.google.com/github/Viktor-Sok/Bioinformatics/blob/main/feed_forward_neural_network_in_PyTorch/NN_Torch.ipynb\" target=\"_parent\"><img src=\"https://colab.research.google.com/assets/colab-badge.svg\" alt=\"Open In Colab\"/></a>"
      ]
    },
    {
      "cell_type": "code",
      "metadata": {
        "id": "Q-dgRhRkwAb0"
      },
      "source": [
        "# Install RDKit. Takes 2-3 minutes\n",
        "%%capture\n",
        "!wget -c https://repo.continuum.io/miniconda/Miniconda3-latest-Linux-x86_64.sh\n",
        "!chmod +x Miniconda3-latest-Linux-x86_64.sh\n",
        "!time bash ./Miniconda3-latest-Linux-x86_64.sh -b -f -p /usr/local\n",
        "!time conda install -q -y -c conda-forge python=3.7\n",
        "!time conda install -q -y -c conda-forge rdkit=2020.09.02\n"
      ],
      "execution_count": null,
      "outputs": []
    },
    {
      "cell_type": "code",
      "metadata": {
        "id": "Wl_9D8CETs2h"
      },
      "source": [
        "import sys\n",
        "sys.path.append('/usr/local/lib/python3.7/site-packages/')\n",
        "from rdkit import Chem\n",
        "from rdkit.Chem import Draw, AllChem\n",
        "from rdkit import DataStructs\n",
        "from sklearn.model_selection import train_test_split #splits data into the training and testing dataset\n",
        "from sklearn.preprocessing import StandardScaler #standardize features by removing the mean and scaling to unit variance\n",
        "from sklearn.feature_selection import VarianceThreshold #feature selector that removes all low-variance features.\n",
        "import torch #machine learning framework\n",
        "import torch.nn as nn #base class for all neural network modules.\n",
        "from torch.optim import Adam # first-order gradient-based optimization of stochastic objective functions\n",
        "from torch.utils.data import TensorDataset, DataLoader #Dataset wrapping tensors #\n",
        "import pandas as pd \n",
        "import matplotlib.pyplot as plt\n",
        "import numpy as np\n",
        "\n",
        "\n",
        "\n",
        "\n"
      ],
      "execution_count": null,
      "outputs": []
    },
    {
      "cell_type": "code",
      "metadata": {
        "id": "-WUaT2iXVOQW"
      },
      "source": [
        "data = pd.read_csv('https://raw.githubusercontent.com/Viktor-Sok/Bioiformatics/main/feed_forward_neural_network_in_PyTorch/mol_data.csv')"
      ],
      "execution_count": null,
      "outputs": []
    },
    {
      "cell_type": "markdown",
      "metadata": {
        "id": "sENVB6Qkn9jG"
      },
      "source": [
        ""
      ]
    },
    {
      "cell_type": "code",
      "metadata": {
        "id": "fYj67JP_NQP9"
      },
      "source": [
        ""
      ],
      "execution_count": null,
      "outputs": []
    },
    {
      "cell_type": "code",
      "metadata": {
        "colab": {
          "base_uri": "https://localhost:8080/",
          "height": 305
        },
        "id": "WHL0B0oFbFbT",
        "outputId": "0665e1b6-ec9b-4493-bf65-aaf67538dadc"
      },
      "source": [
        "data.head()"
      ],
      "execution_count": null,
      "outputs": [
        {
          "output_type": "execute_result",
          "data": {
            "text/html": [
              "<div>\n",
              "<style scoped>\n",
              "    .dataframe tbody tr th:only-of-type {\n",
              "        vertical-align: middle;\n",
              "    }\n",
              "\n",
              "    .dataframe tbody tr th {\n",
              "        vertical-align: top;\n",
              "    }\n",
              "\n",
              "    .dataframe thead th {\n",
              "        text-align: right;\n",
              "    }\n",
              "</style>\n",
              "<table border=\"1\" class=\"dataframe\">\n",
              "  <thead>\n",
              "    <tr style=\"text-align: right;\">\n",
              "      <th></th>\n",
              "      <th>Ambit_InchiKey</th>\n",
              "      <th>Original_Entry_ID</th>\n",
              "      <th>Entrez_ID</th>\n",
              "      <th>Activity_Flag</th>\n",
              "      <th>pXC50</th>\n",
              "      <th>DB</th>\n",
              "      <th>Original_Assay_ID</th>\n",
              "      <th>Tax_ID</th>\n",
              "      <th>Gene_Symbol</th>\n",
              "      <th>Ortholog_Group</th>\n",
              "      <th>SMILES</th>\n",
              "    </tr>\n",
              "  </thead>\n",
              "  <tbody>\n",
              "    <tr>\n",
              "      <th>0</th>\n",
              "      <td>AZMKBJHIXZCVNL-BXKDBHETNA-N</td>\n",
              "      <td>44590643</td>\n",
              "      <td>6532</td>\n",
              "      <td>A</td>\n",
              "      <td>5.68382</td>\n",
              "      <td>pubchem</td>\n",
              "      <td>393260</td>\n",
              "      <td>9606</td>\n",
              "      <td>SLC6A4</td>\n",
              "      <td>4061</td>\n",
              "      <td>FC1=CC([C@@H]2O[C@H](CC2)CN)=C(OC)C=C1</td>\n",
              "    </tr>\n",
              "    <tr>\n",
              "      <th>1</th>\n",
              "      <td>AZMKBJHIXZCVNL-UHFFFAOYNA-N</td>\n",
              "      <td>11492305</td>\n",
              "      <td>6532</td>\n",
              "      <td>A</td>\n",
              "      <td>5.16210</td>\n",
              "      <td>pubchem</td>\n",
              "      <td>393258</td>\n",
              "      <td>9606</td>\n",
              "      <td>SLC6A4</td>\n",
              "      <td>4061</td>\n",
              "      <td>FC1=CC(C2OC(CC2)CN)=C(OC)C=C1</td>\n",
              "    </tr>\n",
              "    <tr>\n",
              "      <th>2</th>\n",
              "      <td>AZOHUEDNMOIDOC-GETDIYNLNA-N</td>\n",
              "      <td>44419340</td>\n",
              "      <td>6532</td>\n",
              "      <td>A</td>\n",
              "      <td>6.66354</td>\n",
              "      <td>pubchem</td>\n",
              "      <td>276059</td>\n",
              "      <td>9606</td>\n",
              "      <td>SLC6A4</td>\n",
              "      <td>4061</td>\n",
              "      <td>FC1=CC=C(C[C@H]2C[C@@H](N(CC2)CC=C)CCCNC(=O)NC...</td>\n",
              "    </tr>\n",
              "    <tr>\n",
              "      <th>3</th>\n",
              "      <td>AZSKJKSQZWHDOK-VJSLDGLSNA-N</td>\n",
              "      <td>CHEMBL1080745</td>\n",
              "      <td>6532</td>\n",
              "      <td>A</td>\n",
              "      <td>6.96000</td>\n",
              "      <td>chembl20</td>\n",
              "      <td>617082</td>\n",
              "      <td>9606</td>\n",
              "      <td>SLC6A4</td>\n",
              "      <td>4061</td>\n",
              "      <td>C=1C=C(C=CC1)C2=CC(=C(N2CC(C)C)C)C(NCCCN3CCN(C...</td>\n",
              "    </tr>\n",
              "    <tr>\n",
              "      <th>4</th>\n",
              "      <td>AZTPZTRJVCAAMX-UHFFFAOYNA-N</td>\n",
              "      <td>CHEMBL578346</td>\n",
              "      <td>6532</td>\n",
              "      <td>A</td>\n",
              "      <td>8.00000</td>\n",
              "      <td>chembl20</td>\n",
              "      <td>596934</td>\n",
              "      <td>9606</td>\n",
              "      <td>SLC6A4</td>\n",
              "      <td>4061</td>\n",
              "      <td>C1=CC=C2C(=C1)C=C(C(N(C3CCNCC3)C4CCC4)=O)C=C2</td>\n",
              "    </tr>\n",
              "  </tbody>\n",
              "</table>\n",
              "</div>"
            ],
            "text/plain": [
              "                Ambit_InchiKey  ...                                             SMILES\n",
              "0  AZMKBJHIXZCVNL-BXKDBHETNA-N  ...             FC1=CC([C@@H]2O[C@H](CC2)CN)=C(OC)C=C1\n",
              "1  AZMKBJHIXZCVNL-UHFFFAOYNA-N  ...                      FC1=CC(C2OC(CC2)CN)=C(OC)C=C1\n",
              "2  AZOHUEDNMOIDOC-GETDIYNLNA-N  ...  FC1=CC=C(C[C@H]2C[C@@H](N(CC2)CC=C)CCCNC(=O)NC...\n",
              "3  AZSKJKSQZWHDOK-VJSLDGLSNA-N  ...  C=1C=C(C=CC1)C2=CC(=C(N2CC(C)C)C)C(NCCCN3CCN(C...\n",
              "4  AZTPZTRJVCAAMX-UHFFFAOYNA-N  ...      C1=CC=C2C(=C1)C=C(C(N(C3CCNCC3)C4CCC4)=O)C=C2\n",
              "\n",
              "[5 rows x 11 columns]"
            ]
          },
          "metadata": {
            "tags": []
          },
          "execution_count": 4
        }
      ]
    },
    {
      "cell_type": "code",
      "metadata": {
        "colab": {
          "base_uri": "https://localhost:8080/",
          "height": 232
        },
        "id": "Wo1FTYktbQgY",
        "outputId": "afb182bc-20ee-4cd8-9674-9922b407e726"
      },
      "source": [
        "# Example of conversion SNILE string to RDKit molecule object\n",
        "mol = Chem.MolFromSmiles(data.SMILES[4])\n",
        "Draw.MolToMPL(mol, size= (100,100) )\n",
        "data.shape"
      ],
      "execution_count": null,
      "outputs": [
        {
          "output_type": "execute_result",
          "data": {
            "text/plain": [
              "(7228, 11)"
            ]
          },
          "metadata": {
            "tags": []
          },
          "execution_count": 5
        },
        {
          "output_type": "display_data",
          "data": {
            "image/png": "[encoded data removed]",
            "text/plain": [
              "<Figure size 72x72 with 1 Axes>"
            ]
          },
          "metadata": {
            "tags": [],
            "needs_background": "light"
          }
        }
      ]
    },
    {
      "cell_type": "code",
      "metadata": {
        "colab": {
          "base_uri": "https://localhost:8080/"
        },
        "id": "Az999LsSbg1m",
        "outputId": "29acce82-3e25-43c0-a5c1-2b7a8c481297"
      },
      "source": [
        "mol_objects = []\n",
        "for element in data.SMILES:  # creates list of RDKit molecule objects from \"SIMILES\" column of the data frame\n",
        "    temp_obj = Chem.MolFromSmiles(element)\n",
        "    if temp_obj is None : continue # just in case for errors in SMILES strings\n",
        "    mol_objects.append(temp_obj)\n",
        "if (len(mol_objects) == len(data.SMILES)): # checking for converting errors\n",
        "    print(\"No errors\")"
      ],
      "execution_count": null,
      "outputs": [
        {
          "output_type": "stream",
          "text": [
            "No errors\n"
          ],
          "name": "stdout"
        }
      ]
    },
    {
      "cell_type": "code",
      "metadata": {
        "id": "Oxm4tDihfmeL"
      },
      "source": [
        "def mol2fingerprint(mol): \n",
        "    #Gives Morrgan fingerprints for a molecule\n",
        "    fingerprint = AllChem.GetHashedMorganFingerprint(mol, 2, nBits=4096 )\n",
        "    array = np.zeros((1,), dtype=np.int8)\n",
        "    DataStructs.ConvertToNumpyArray(fingerprint, array)\n",
        "    return array  \n"
      ],
      "execution_count": null,
      "outputs": []
    },
    {
      "cell_type": "code",
      "metadata": {
        "colab": {
          "base_uri": "https://localhost:8080/"
        },
        "id": "kGVIu3nexshQ",
        "outputId": "41e1c946-d6ad-49cb-8a3e-6ccdf2b0a7ad"
      },
      "source": [
        "fp_list = [] # list of fingerprints for all the molecules in the dataset\n",
        "for mol in mol_objects:\n",
        "  temp = mol2fingerprint(mol)\n",
        "  fp_list.append(temp)\n",
        "\n",
        "X = np.stack(fp_list) #coverts list of 1D numpy arrays to multidimensional numpy array   \n",
        "np.shape(X)"
      ],
      "execution_count": null,
      "outputs": [
        {
          "output_type": "execute_result",
          "data": {
            "text/plain": [
              "(7228, 4096)"
            ]
          },
          "metadata": {
            "tags": []
          },
          "execution_count": 8
        }
      ]
    },
    {
      "cell_type": "markdown",
      "metadata": {
        "id": "OI9P9dKl315O"
      },
      "source": [
        "## Splitting data into the training (85%), validation (5%), and testing (10%) dataset  using sklearn\n",
        "\n",
        "\n",
        "\n"
      ]
    },
    {
      "cell_type": "code",
      "metadata": {
        "colab": {
          "base_uri": "https://localhost:8080/"
        },
        "id": "0_TaJ0J822Ep",
        "outputId": "96588e54-a6de-4ad3-eb67-1aa4440a08b6"
      },
      "source": [
        "#fingerprintes in X are the features for the model\n",
        "#pXC50 values are the labels for the model\n",
        "y = data.pXC50.values.reshape((-1,1))\n",
        "X_train, X_test, y_train, y_test = train_test_split( X,y,  test_size=0.10, random_state=42) # creates testing dataset \n",
        "X_train, X_validation, y_train, y_validation = train_test_split(X_train, y_train,  test_size=0.05, random_state=42) # creates train and validation datasets\n",
        "X_train.shape"
      ],
      "execution_count": null,
      "outputs": [
        {
          "output_type": "execute_result",
          "data": {
            "text/plain": [
              "(6179, 4096)"
            ]
          },
          "metadata": {
            "tags": []
          },
          "execution_count": 9
        }
      ]
    },
    {
      "cell_type": "markdown",
      "metadata": {
        "id": "DOeosFSJCM-y"
      },
      "source": [
        "##Scaling and centering labels"
      ]
    },
    {
      "cell_type": "markdown",
      "metadata": {
        "id": "qA3Rjw4br3vv"
      },
      "source": [
        ""
      ]
    },
    {
      "cell_type": "markdown",
      "metadata": {
        "id": "q06WYPFprz9s"
      },
      "source": [
        ""
      ]
    },
    {
      "cell_type": "code",
      "metadata": {
        "colab": {
          "base_uri": "https://localhost:8080/",
          "height": 189
        },
        "id": "WCdUxlnZ4Kpl",
        "outputId": "b82f313f-1f6a-4247-9a8f-e091a7d115d9"
      },
      "source": [
        "#before scaling\n",
        "pd.DataFrame(y_train).hist(bins=50) \n"
      ],
      "execution_count": null,
      "outputs": [
        {
          "output_type": "error",
          "ename": "NameError",
          "evalue": "ignored",
          "traceback": [
            "\u001b[0;31m---------------------------------------------------------------------------\u001b[0m",
            "\u001b[0;31mNameError\u001b[0m                                 Traceback (most recent call last)",
            "\u001b[0;32m<ipython-input-1-ccad4e6ac3e3>\u001b[0m in \u001b[0;36m<module>\u001b[0;34m()\u001b[0m\n\u001b[1;32m      1\u001b[0m \u001b[0;31m#before scaling\u001b[0m\u001b[0;34m\u001b[0m\u001b[0;34m\u001b[0m\u001b[0;34m\u001b[0m\u001b[0m\n\u001b[0;32m----> 2\u001b[0;31m \u001b[0mpd\u001b[0m\u001b[0;34m.\u001b[0m\u001b[0mDataFrame\u001b[0m\u001b[0;34m(\u001b[0m\u001b[0my_train\u001b[0m\u001b[0;34m)\u001b[0m\u001b[0;34m.\u001b[0m\u001b[0mhist\u001b[0m\u001b[0;34m(\u001b[0m\u001b[0mbins\u001b[0m\u001b[0;34m=\u001b[0m\u001b[0;36m50\u001b[0m\u001b[0;34m)\u001b[0m\u001b[0;34m\u001b[0m\u001b[0;34m\u001b[0m\u001b[0m\n\u001b[0m",
            "\u001b[0;31mNameError\u001b[0m: name 'pd' is not defined"
          ]
        }
      ]
    },
    {
      "cell_type": "code",
      "metadata": {
        "colab": {
          "base_uri": "https://localhost:8080/",
          "height": 317
        },
        "id": "nIf3LI7VC3rF",
        "outputId": "a2cff217-ab8b-4f9c-be22-7f304361aa16"
      },
      "source": [
        "#after scaling\n",
        "scaler = StandardScaler() \n",
        "scaler.fit(y_train) # gives mean and std of labels\n",
        "y_train = scaler.transform(y_train)\n",
        "pd.DataFrame(y_train).hist(bins=50)"
      ],
      "execution_count": null,
      "outputs": [
        {
          "output_type": "execute_result",
          "data": {
            "text/plain": [
              "array([[<matplotlib.axes._subplots.AxesSubplot object at 0x7fa8f8757b10>]],\n",
              "      dtype=object)"
            ]
          },
          "metadata": {
            "tags": []
          },
          "execution_count": 11
        },
        {
          "output_type": "display_data",
          "data": {
            "image/png": "[encoded data removed]",
            "text/plain": [
              "<Figure size 432x288 with 1 Axes>"
            ]
          },
          "metadata": {
            "tags": [],
            "needs_background": "light"
          }
        }
      ]
    },
    {
      "cell_type": "code",
      "metadata": {
        "id": "hkET3-e6DtZm"
      },
      "source": [
        "# applying scaling for the testing and validation dataset using mean and std from the training dataset\n",
        "y_test = scaler.transform(y_test)\n",
        "y_validation = scaler.transform(y_validation)"
      ],
      "execution_count": null,
      "outputs": []
    },
    {
      "cell_type": "markdown",
      "metadata": {
        "id": "q_A1TlbvJVl6"
      },
      "source": [
        "##Removing low variance features defind by threshold hyper-parameter"
      ]
    },
    {
      "cell_type": "code",
      "metadata": {
        "colab": {
          "base_uri": "https://localhost:8080/"
        },
        "id": "bEmsSpEkIk3-",
        "outputId": "24496444-dfb0-4ef2-c2de-4c88b6a99511"
      },
      "source": [
        "#Remoning because they can be almost always on, or very seldom used\n",
        "#Basically  values which close to each other in the Morrgan fingerprints will be deleted\n",
        "#Closeness is defined by threshold hyper-parameter\n",
        "feature_select = VarianceThreshold(threshold=0.05)\n",
        "X_train = feature_select.fit_transform(X_train)\n",
        "X_validation = feature_select.transform(X_validation)\n",
        "X_test = feature_select.transform(X_test)\n",
        "X_train.shape"
      ],
      "execution_count": null,
      "outputs": [
        {
          "output_type": "execute_result",
          "data": {
            "text/plain": [
              "(6179, 221)"
            ]
          },
          "metadata": {
            "tags": []
          },
          "execution_count": 13
        }
      ]
    },
    {
      "cell_type": "markdown",
      "metadata": {
        "id": "ydSJnmK1J7mx"
      },
      "source": [
        "##Preparing dataset in the PyTorch"
      ]
    },
    {
      "cell_type": "code",
      "metadata": {
        "colab": {
          "base_uri": "https://localhost:8080/"
        },
        "id": "vZUF2u6tMTBG",
        "outputId": "c69444af-603b-4d7e-9231-4fbd30ee1bc0"
      },
      "source": [
        "#choosing GPU on which a torch.Tensor will be allocated if available\n",
        "# structure of PyTorch tensors are different if they created for GPU or CPU.\n",
        "device = torch.device(\"cuda:0\" if torch.cuda.is_available() else \"cpu\")\n",
        "print(device)"
      ],
      "execution_count": null,
      "outputs": [
        {
          "output_type": "stream",
          "text": [
            "cpu\n"
          ],
          "name": "stdout"
        }
      ]
    },
    {
      "cell_type": "code",
      "metadata": {
        "id": "9_LtIG3wMTGb"
      },
      "source": [
        "#creating tensors\n",
        "X_train = torch.tensor(X_train, device=device).float()\n",
        "X_test = torch.tensor(X_test, device=device).float()\n",
        "X_validation = torch.tensor(X_validation, device=device).float()\n",
        "y_train = torch.tensor(y_train, device=device).float()\n",
        "y_test = torch.tensor(y_test, device=device).float()\n",
        "y_validation = torch.tensor(y_validation, device=device).float()\n"
      ],
      "execution_count": null,
      "outputs": []
    },
    {
      "cell_type": "code",
      "metadata": {
        "id": "paESBrAjR9bz"
      },
      "source": [
        "#combining features and labels\n",
        "train_dataset = TensorDataset(X_train, y_train)\n",
        "validation_dataset = TensorDataset(X_validation, y_validation)\n",
        "#defining batches and shuffling after each epochs\n",
        "train_loader = DataLoader(dataset=train_dataset, batch_size=25, shuffle=True)\n",
        "validation_loader = DataLoader(dataset=validation_dataset, batch_size=256, shuffle=False)"
      ],
      "execution_count": null,
      "outputs": []
    },
    {
      "cell_type": "markdown",
      "metadata": {
        "id": "qFEfc5m0VWD9"
      },
      "source": [
        "##Defining the structure of the network"
      ]
    },
    {
      "cell_type": "code",
      "metadata": {
        "id": "dz5sp-ULU6xa"
      },
      "source": [
        "#creating subclass of nn.Module in which NN is defined\n",
        "class Net(nn.Module):\n",
        "    def __init__(self, input_size, hidden_size, dropout_rate, out_size):\n",
        "        super(Net, self).__init__()\n",
        "        # Three layers and a output layer\n",
        "        self.fc1 = nn.Linear(input_size, hidden_size)  \n",
        "        self.fc2 = nn.Linear(hidden_size, hidden_size)\n",
        "        self.fc3 = nn.Linear(hidden_size, hidden_size)\n",
        "        self.fc_out = nn.Linear(hidden_size, out_size) # Output layer\n",
        "        #Layer normalization for faster training\n",
        "        self.ln1 = nn.LayerNorm(hidden_size)\n",
        "        self.ln2 = nn.LayerNorm(hidden_size)\n",
        "        self.ln3 = nn.LayerNorm(hidden_size)        \n",
        "        #LeakyReLU will be used as the activation function\n",
        "        self.activation = nn.LeakyReLU()\n",
        "        #Dropout for regularization\n",
        "        self.dropout = nn.Dropout(dropout_rate)\n",
        "     \n",
        "    def forward(self, x):# Stacking each layer together\n",
        "        out = self.fc1(x)\n",
        "        out = self.ln1(out)\n",
        "        out = self.activation(out)\n",
        "        out = self.dropout(out)\n",
        "        out = self.fc2(out)\n",
        "        out = self.ln2(out)\n",
        "        out = self.activation(out)\n",
        "        out = self.dropout(out)\n",
        "        out = self.fc3(out)\n",
        "        out = self.ln3(out)\n",
        "        out = self.activation(out)\n",
        "        out = self.dropout(out)\n",
        "        #Final output layer\n",
        "        out = self.fc_out(out)\n",
        "        return out"
      ],
      "execution_count": null,
      "outputs": []
    },
    {
      "cell_type": "markdown",
      "metadata": {
        "id": "wOhbItupZusV"
      },
      "source": [
        "##Defining hyper-parameters of NN and creating the model"
      ]
    },
    {
      "cell_type": "code",
      "metadata": {
        "id": "voijV2TCZzPJ"
      },
      "source": [
        "#Defining the hyperparameters\n",
        "input_size = X_train.size()[-1]     # The input size \n",
        "hidden_size = 1024   # The size of the hidden layer\n",
        "dropout_rate = 0.80    # The dropout rate\n",
        "output_size = 1        \n",
        "learning_rate = 0.001  # The learning rate for the optimizer\n",
        "model = Net(input_size, hidden_size, dropout_rate, output_size) #creating the model\n"
      ],
      "execution_count": null,
      "outputs": []
    },
    {
      "cell_type": "code",
      "metadata": {
        "colab": {
          "base_uri": "https://localhost:8080/"
        },
        "id": "EzxcjO3XaWgF",
        "outputId": "2db74a1d-2928-4aa3-b8f4-661f07088761"
      },
      "source": [
        "model.cuda() #The model can be moved to the GPU"
      ],
      "execution_count": null,
      "outputs": [
        {
          "output_type": "execute_result",
          "data": {
            "text/plain": [
              "Net(\n",
              "  (fc1): Linear(in_features=221, out_features=1024, bias=True)\n",
              "  (fc2): Linear(in_features=1024, out_features=1024, bias=True)\n",
              "  (fc3): Linear(in_features=1024, out_features=1024, bias=True)\n",
              "  (fc_out): Linear(in_features=1024, out_features=1, bias=True)\n",
              "  (ln1): LayerNorm((1024,), eps=1e-05, elementwise_affine=True)\n",
              "  (ln2): LayerNorm((1024,), eps=1e-05, elementwise_affine=True)\n",
              "  (ln3): LayerNorm((1024,), eps=1e-05, elementwise_affine=True)\n",
              "  (activation): LeakyReLU(negative_slope=0.01)\n",
              "  (dropout): Dropout(p=0.8, inplace=False)\n",
              ")"
            ]
          },
          "metadata": {
            "tags": []
          },
          "execution_count": 32
        }
      ]
    },
    {
      "cell_type": "code",
      "metadata": {
        "id": "A11ZXjVna3Pu"
      },
      "source": [
        "criterion = nn.MSELoss() # loss function is the mean squared error\n",
        "optimizer = Adam(model.parameters(), lr=learning_rate) # optimizer"
      ],
      "execution_count": null,
      "outputs": []
    },
    {
      "cell_type": "markdown",
      "metadata": {
        "id": "TkiZ8boFcBAZ"
      },
      "source": [
        "##Training the model"
      ]
    },
    {
      "cell_type": "code",
      "metadata": {
        "colab": {
          "base_uri": "https://localhost:8080/"
        },
        "id": "HnTXOus5cD32",
        "outputId": "8ba6ca72-7be9-4bd7-9fed-84688445c478"
      },
      "source": [
        "model.train() #Ensure the network is in \"train\" mode with dropouts active\n",
        "epochs = 200 # number of times the whole dataset will be fed to the model\n",
        "for e in range(epochs):\n",
        "    running_loss = 0 #\n",
        "    for fps, labels in train_loader:\n",
        "        # Training pass\n",
        "        optimizer.zero_grad() # Initialize the gradients, which will be recorded during the forward pa\n",
        "         \n",
        "        output = model(fps) #Forward pass of the mini-batch\n",
        "        loss = criterion(output, labels) #Computing the loss\n",
        "        loss.backward() # calculate the backward pass\n",
        "        optimizer.step() # Optimize the weights\n",
        "         \n",
        "        running_loss += loss.item()\n",
        "    else:\n",
        "        if e%10 == 0:\n",
        "            validation_loss = torch.mean(( y_validation - model(X_validation) )**2).item()\n",
        "            print(\"Epoch: %3i Training loss: %0.2F Validation loss: %0.2F\"%(e,(running_loss/len(train_loader)), validation_loss))"
      ],
      "execution_count": null,
      "outputs": [
        {
          "output_type": "stream",
          "text": [
            "Epoch:   0 Training loss: 1.02 Validation loss: 0.75\n",
            "Epoch:  10 Training loss: 0.50 Validation loss: 0.54\n",
            "Epoch:  20 Training loss: 0.43 Validation loss: 0.52\n",
            "Epoch:  30 Training loss: 0.38 Validation loss: 0.49\n",
            "Epoch:  40 Training loss: 0.35 Validation loss: 0.52\n",
            "Epoch:  50 Training loss: 0.32 Validation loss: 0.45\n",
            "Epoch:  60 Training loss: 0.30 Validation loss: 0.42\n",
            "Epoch:  70 Training loss: 0.30 Validation loss: 0.43\n",
            "Epoch:  80 Training loss: 0.27 Validation loss: 0.42\n",
            "Epoch:  90 Training loss: 0.26 Validation loss: 0.43\n",
            "Epoch: 100 Training loss: 0.25 Validation loss: 0.38\n",
            "Epoch: 110 Training loss: 0.25 Validation loss: 0.42\n",
            "Epoch: 120 Training loss: 0.24 Validation loss: 0.37\n",
            "Epoch: 130 Training loss: 0.23 Validation loss: 0.41\n",
            "Epoch: 140 Training loss: 0.24 Validation loss: 0.43\n",
            "Epoch: 150 Training loss: 0.23 Validation loss: 0.40\n",
            "Epoch: 160 Training loss: 0.22 Validation loss: 0.43\n",
            "Epoch: 170 Training loss: 0.22 Validation loss: 0.39\n",
            "Epoch: 180 Training loss: 0.22 Validation loss: 0.41\n",
            "Epoch: 190 Training loss: 0.20 Validation loss: 0.41\n"
          ],
          "name": "stdout"
        }
      ]
    },
    {
      "cell_type": "code",
      "metadata": {
        "id": "gXC2_Xm0evTz"
      },
      "source": [
        "PATH =\"/tmp/state_dict_model.pt\"\n",
        "torch.save(model.state_dict(),PATH ) # saves model weights  after training in the state_dict"
      ],
      "execution_count": null,
      "outputs": []
    },
    {
      "cell_type": "markdown",
      "metadata": {
        "id": "uP8VGrVYgU46"
      },
      "source": [
        "##Using model for predictions"
      ]
    },
    {
      "cell_type": "code",
      "metadata": {
        "id": "wsNwbH9Ffigv",
        "colab": {
          "base_uri": "https://localhost:8080/"
        },
        "outputId": "6e2445ce-50c3-40a5-8886-4517f57fda6f"
      },
      "source": [
        "# load model weights stored in the state_dict\n",
        "# we load model which was trained in GPU, but we want to make predictions on CPU\n",
        "# Syntax to load :\n",
        "# PATH =\"/tmp/state_dict_model.pt\" # path to the saved state_dict file\n",
        "# device = torch.device('cpu')\n",
        "# model_name = TheModelClass(*args, **kwargs)\n",
        "# model_name.load_state_dict(torch.load(PATH, map_location=device))\n",
        "#======================================================================#\n",
        "device1 = torch.device('cpu')\n",
        "PATH =\"/tmp/state_dict_model.pt\"\n",
        "# hyperparameters for amodel (*args)\n",
        "input_size = X_train.size()[-1]     # The input size \n",
        "hidden_size = 1024   # The size of the hidden layer\n",
        "dropout_rate = 0.80    # The dropout rate\n",
        "output_size = 1    \n",
        "loaded_model = Net(input_size, hidden_size, dropout_rate, output_size)\n",
        "loaded_model.load_state_dict(torch.load(PATH, map_location = device1))\n",
        "loaded_model.eval() #Swith to evaluation mode, where dropout is switched off\n",
        "for param_tensor in loaded_model.state_dict(): # print the state_dict\n",
        "    print(param_tensor, \"\\t\", loaded_model.state_dict()[param_tensor].size())"
      ],
      "execution_count": null,
      "outputs": [
        {
          "output_type": "stream",
          "text": [
            "fc1.weight \t torch.Size([1024, 221])\n",
            "fc1.bias \t torch.Size([1024])\n",
            "fc2.weight \t torch.Size([1024, 1024])\n",
            "fc2.bias \t torch.Size([1024])\n",
            "fc3.weight \t torch.Size([1024, 1024])\n",
            "fc3.bias \t torch.Size([1024])\n",
            "fc_out.weight \t torch.Size([1, 1024])\n",
            "fc_out.bias \t torch.Size([1])\n",
            "ln1.weight \t torch.Size([1024])\n",
            "ln1.bias \t torch.Size([1024])\n",
            "ln2.weight \t torch.Size([1024])\n",
            "ln2.bias \t torch.Size([1024])\n",
            "ln3.weight \t torch.Size([1024])\n",
            "ln3.bias \t torch.Size([1024])\n"
          ],
          "name": "stdout"
        }
      ]
    },
    {
      "cell_type": "code",
      "metadata": {
        "colab": {
          "base_uri": "https://localhost:8080/"
        },
        "id": "8kDsc6tehEpl",
        "outputId": "eb45200b-f2f3-4a3c-9165-ef107b11d7ab"
      },
      "source": [
        "#loaded_model.cuda() #moves loaded_model to the GPU"
      ],
      "execution_count": null,
      "outputs": [
        {
          "output_type": "execute_result",
          "data": {
            "text/plain": [
              "Net(\n",
              "  (fc1): Linear(in_features=221, out_features=1024, bias=True)\n",
              "  (fc2): Linear(in_features=1024, out_features=1024, bias=True)\n",
              "  (fc3): Linear(in_features=1024, out_features=1024, bias=True)\n",
              "  (fc_out): Linear(in_features=1024, out_features=1, bias=True)\n",
              "  (ln1): LayerNorm((1024,), eps=1e-05, elementwise_affine=True)\n",
              "  (ln2): LayerNorm((1024,), eps=1e-05, elementwise_affine=True)\n",
              "  (ln3): LayerNorm((1024,), eps=1e-05, elementwise_affine=True)\n",
              "  (activation): LeakyReLU(negative_slope=0.01)\n",
              "  (dropout): Dropout(p=0.8, inplace=False)\n",
              ")"
            ]
          },
          "metadata": {
            "tags": []
          },
          "execution_count": 22
        }
      ]
    },
    {
      "cell_type": "code",
      "metadata": {
        "id": "S0Y591xefr8V"
      },
      "source": [
        "# predicting for the training set, validation set and the  test set.\n",
        "y_pred_train = loaded_model(X_train)\n",
        "y_pred_validation = loaded_model(X_validation)\n",
        "y_pred_test = loaded_model(X_test)"
      ],
      "execution_count": null,
      "outputs": []
    },
    {
      "cell_type": "markdown",
      "metadata": {
        "id": "bClu1PNbikde"
      },
      "source": [
        "##Analysis of prediction accuracy"
      ]
    },
    {
      "cell_type": "code",
      "metadata": {
        "colab": {
          "base_uri": "https://localhost:8080/"
        },
        "id": "PdF517skhQJh",
        "outputId": "08b6d93d-a2f9-4c7d-e5cf-c24bbc517ba4"
      },
      "source": [
        "# Calculating the root mean square error\n",
        "# .item() method returns the value of this tensor as a standard Python number\n",
        "# This only works for tensors with one element. For other cases, see tolist()\n",
        "torch.mean(( y_train - y_pred_train )**2).item() #for the training data"
      ],
      "execution_count": null,
      "outputs": [
        {
          "output_type": "execute_result",
          "data": {
            "text/plain": [
              "0.1231372207403183"
            ]
          },
          "metadata": {
            "tags": []
          },
          "execution_count": 21
        }
      ]
    },
    {
      "cell_type": "code",
      "metadata": {
        "id": "3IbvWx6giROM",
        "colab": {
          "base_uri": "https://localhost:8080/"
        },
        "outputId": "0c7c1150-38b3-479f-a856-f1220ad1f7e3"
      },
      "source": [
        "torch.mean(( y_validation - y_pred_validation )**2).item() #for the validation data"
      ],
      "execution_count": null,
      "outputs": [
        {
          "output_type": "execute_result",
          "data": {
            "text/plain": [
              "0.322846382856369"
            ]
          },
          "metadata": {
            "tags": []
          },
          "execution_count": 22
        }
      ]
    },
    {
      "cell_type": "code",
      "metadata": {
        "id": "ZOMdWG8gi4Op",
        "colab": {
          "base_uri": "https://localhost:8080/"
        },
        "outputId": "857fbf4f-bc6b-41ef-9178-1ccd76007bdc"
      },
      "source": [
        "torch.mean(( y_test - y_pred_test )**2).item() #for the test dataset"
      ],
      "execution_count": null,
      "outputs": [
        {
          "output_type": "execute_result",
          "data": {
            "text/plain": [
              "0.30101898312568665"
            ]
          },
          "metadata": {
            "tags": []
          },
          "execution_count": 23
        }
      ]
    },
    {
      "cell_type": "code",
      "metadata": {
        "colab": {
          "base_uri": "https://localhost:8080/",
          "height": 392
        },
        "id": "8kWgeMsLT_Rw",
        "outputId": "d9e77c08-8c5c-4ce8-9926-7eaa8ebac5d9"
      },
      "source": [
        "def flatten(tensor):\n",
        "    #detachs tensor from gradient, converts it to numpy and flatten it\n",
        "    return tensor.detach().numpy().flatten()\n",
        "plt.figure(figsize=(8, 6))\n",
        "plt.scatter(flatten(y_pred_test), flatten(y_test), alpha=0.5, label=\"Test\")\n",
        "plt.scatter(flatten(y_pred_train), flatten(y_train), alpha=0.1, label=\"Train\")\n",
        "plt.legend()\n",
        "plt.plot([-1.5, 1.5], [-1.5,1.5], c=\"b\")"
      ],
      "execution_count": null,
      "outputs": [
        {
          "output_type": "execute_result",
          "data": {
            "text/plain": [
              "[<matplotlib.lines.Line2D at 0x7fa8f80c0790>]"
            ]
          },
          "metadata": {
            "tags": []
          },
          "execution_count": 26
        },
        {
          "output_type": "display_data",
          "data": {
            "image/png": "[encoded data removed]",
            "text/plain": [
              "<Figure size 576x432 with 1 Axes>"
            ]
          },
          "metadata": {
            "tags": [],
            "needs_background": "light"
          }
        }
      ]
    },
    {
      "cell_type": "markdown",
      "metadata": {
        "id": "keHcQ0y8UxSC"
      },
      "source": [
        "#Predicting an arbitrary molecule using the model"
      ]
    },
    {
      "cell_type": "code",
      "metadata": {
        "colab": {
          "base_uri": "https://localhost:8080/",
          "height": 198
        },
        "id": "t-4FpuEOcM5u",
        "outputId": "dd8e66a0-a5d1-4d89-85d4-ca2c1e04ae17"
      },
      "source": [
        "data[[\"SMILES\",\"pXC50\" ]].head(5) # choose any smile string for prediction"
      ],
      "execution_count": null,
      "outputs": [
        {
          "output_type": "execute_result",
          "data": {
            "text/html": [
              "<div>\n",
              "<style scoped>\n",
              "    .dataframe tbody tr th:only-of-type {\n",
              "        vertical-align: middle;\n",
              "    }\n",
              "\n",
              "    .dataframe tbody tr th {\n",
              "        vertical-align: top;\n",
              "    }\n",
              "\n",
              "    .dataframe thead th {\n",
              "        text-align: right;\n",
              "    }\n",
              "</style>\n",
              "<table border=\"1\" class=\"dataframe\">\n",
              "  <thead>\n",
              "    <tr style=\"text-align: right;\">\n",
              "      <th></th>\n",
              "      <th>SMILES</th>\n",
              "      <th>pXC50</th>\n",
              "    </tr>\n",
              "  </thead>\n",
              "  <tbody>\n",
              "    <tr>\n",
              "      <th>0</th>\n",
              "      <td>FC1=CC([C@@H]2O[C@H](CC2)CN)=C(OC)C=C1</td>\n",
              "      <td>5.68382</td>\n",
              "    </tr>\n",
              "    <tr>\n",
              "      <th>1</th>\n",
              "      <td>FC1=CC(C2OC(CC2)CN)=C(OC)C=C1</td>\n",
              "      <td>5.16210</td>\n",
              "    </tr>\n",
              "    <tr>\n",
              "      <th>2</th>\n",
              "      <td>FC1=CC=C(C[C@H]2C[C@@H](N(CC2)CC=C)CCCNC(=O)NC...</td>\n",
              "      <td>6.66354</td>\n",
              "    </tr>\n",
              "    <tr>\n",
              "      <th>3</th>\n",
              "      <td>C=1C=C(C=CC1)C2=CC(=C(N2CC(C)C)C)C(NCCCN3CCN(C...</td>\n",
              "      <td>6.96000</td>\n",
              "    </tr>\n",
              "    <tr>\n",
              "      <th>4</th>\n",
              "      <td>C1=CC=C2C(=C1)C=C(C(N(C3CCNCC3)C4CCC4)=O)C=C2</td>\n",
              "      <td>8.00000</td>\n",
              "    </tr>\n",
              "  </tbody>\n",
              "</table>\n",
              "</div>"
            ],
            "text/plain": [
              "                                              SMILES    pXC50\n",
              "0             FC1=CC([C@@H]2O[C@H](CC2)CN)=C(OC)C=C1  5.68382\n",
              "1                      FC1=CC(C2OC(CC2)CN)=C(OC)C=C1  5.16210\n",
              "2  FC1=CC=C(C[C@H]2C[C@@H](N(CC2)CC=C)CCCNC(=O)NC...  6.66354\n",
              "3  C=1C=C(C=CC1)C2=CC(=C(N2CC(C)C)C)C(NCCCN3CCN(C...  6.96000\n",
              "4      C1=CC=C2C(=C1)C=C(C(N(C3CCNCC3)C4CCC4)=O)C=C2  8.00000"
            ]
          },
          "metadata": {
            "tags": []
          },
          "execution_count": 38
        }
      ]
    },
    {
      "cell_type": "code",
      "metadata": {
        "colab": {
          "base_uri": "https://localhost:8080/"
        },
        "id": "tb2wVe-WU4_r",
        "outputId": "0d645a33-c3cf-457d-a751-58c46e6ab558"
      },
      "source": [
        "def predict_smiles(smiles):\n",
        "    fp =mol2fingerprint( Chem.MolFromSmiles(smiles) ).reshape(1,-1) # creates Morgan fingerprint\n",
        "    fp_filtered = feature_select.transform(fp) # use the VarianceThreshold object on the fingerprints\n",
        "    fp_tensor = torch.tensor(fp_filtered, device=device1).float() # creates PyTorch tensor for a partiicular device\n",
        "    prediction = loaded_model(fp_tensor) # prediction\n",
        "    pXC50 = scaler.inverse_transform(prediction.cpu().detach().numpy())# scaling back prediction\n",
        "    return pXC50[0][0]\n",
        "predict_smiles('C1=CC=C2C(=C1)C=C(C(N(C3CCNCC3)C4CCC4)=O)C=C2')\n"
      ],
      "execution_count": null,
      "outputs": [
        {
          "output_type": "execute_result",
          "data": {
            "text/plain": [
              "7.9737267"
            ]
          },
          "metadata": {
            "tags": []
          },
          "execution_count": 40
        }
      ]
    }
  ]
}