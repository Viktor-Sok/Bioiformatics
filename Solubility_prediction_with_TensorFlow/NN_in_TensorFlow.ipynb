{
  "nbformat": 4,
  "nbformat_minor": 0,
  "metadata": {
    "colab": {
      "name": "NN_in_TensorFlow.ipynb",
      "provenance": [],
      "collapsed_sections": [],
      "toc_visible": true,
      "authorship_tag": "ABX9TyOd0X4gmvBmOnoEN8eU1WMF",
      "include_colab_link": true
    },
    "kernelspec": {
      "name": "python3",
      "display_name": "Python 3"
    },
    "language_info": {
      "name": "python"
    }
  },
  "cells": [
    {
      "cell_type": "markdown",
      "metadata": {
        "id": "view-in-github",
        "colab_type": "text"
      },
      "source": [
        "<a href=\"https://colab.research.google.com/github/Viktor-Sok/Bioinformatics/blob/main/Solubility_prediction_with_TensorFlow/NN_in_TensorFlow.ipynb\" target=\"_parent\"><img src=\"https://colab.research.google.com/assets/colab-badge.svg\" alt=\"Open In Colab\"/></a>"
      ]
    },
    {
      "cell_type": "code",
      "metadata": {
        "id": "36NZ3t1IwMoO"
      },
      "source": [
        "# Install RDKit. Takes 2-3 minutes\n",
        "%%capture\n",
        "!wget -c https://repo.continuum.io/miniconda/Miniconda3-latest-Linux-x86_64.sh\n",
        "!chmod +x Miniconda3-latest-Linux-x86_64.sh\n",
        "!time bash ./Miniconda3-latest-Linux-x86_64.sh -b -f -p /usr/local\n",
        "!time conda install -q -y -c conda-forge python=3.7\n",
        "!time conda install -q -y -c conda-forge rdkit=2020.09.02\n",
        "import sys #system-specific parameters and functions\n",
        "sys.path.append('/usr/local/lib/python3.7/site-packages/') #specifies the search path for modules"
      ],
      "execution_count": null,
      "outputs": []
    },
    {
      "cell_type": "code",
      "metadata": {
        "id": "FyGg5KuIwwfs"
      },
      "source": [
        "from rdkit import Chem\n",
        "from rdkit.Chem.EState import Fingerprinter\n",
        "from rdkit.Chem import Descriptors, PandasTools\n",
        "import pandas as pd\n",
        "import numpy as np\n",
        "import matplotlib.pyplot as plt\n",
        "from sklearn.preprocessing import StandardScaler\n",
        "from sklearn.model_selection import train_test_split\n",
        "import tensorflow as tf\n",
        "from tensorflow import keras\n",
        "from tensorflow.keras import layers\n",
        "#from keras.models import Sequential\n",
        "#from keras.layers import Dense, Activation\n",
        "#from keras.optimizers import SGD"
      ],
      "execution_count": null,
      "outputs": []
    },
    {
      "cell_type": "code",
      "metadata": {
        "colab": {
          "base_uri": "https://localhost:8080/"
        },
        "id": "sD5CW-sHZq3w",
        "outputId": "96e3881f-1532-4712-8eee-5ede713901c6"
      },
      "source": [
        "print(tf.__version__) # check the TensorFlow version"
      ],
      "execution_count": null,
      "outputs": [
        {
          "output_type": "stream",
          "text": [
            "2.4.1\n"
          ],
          "name": "stdout"
        }
      ]
    },
    {
      "cell_type": "markdown",
      "metadata": {
        "id": "QQU9uVhM37GA"
      },
      "source": [
        "## Loading the data"
      ]
    },
    {
      "cell_type": "code",
      "metadata": {
        "id": "ffdKTsTr3j-F"
      },
      "source": [
        "data = pd.read_table(\"https://raw.githubusercontent.com/Viktor-Sok/Bioiformatics/main/Solubility_prediction_with_TensorFlow/Solub_set.txt\", sep = \" \")"
      ],
      "execution_count": null,
      "outputs": []
    },
    {
      "cell_type": "code",
      "metadata": {
        "colab": {
          "base_uri": "https://localhost:8080/",
          "height": 138
        },
        "id": "3BQs3Com6MYK",
        "outputId": "c55e1097-2659-48b8-9d10-4bf9bc4a41c2"
      },
      "source": [
        "data.head(3)"
      ],
      "execution_count": null,
      "outputs": [
        {
          "output_type": "execute_result",
          "data": {
            "text/html": [
              "<div>\n",
              "<style scoped>\n",
              "    .dataframe tbody tr th:only-of-type {\n",
              "        vertical-align: middle;\n",
              "    }\n",
              "\n",
              "    .dataframe tbody tr th {\n",
              "        vertical-align: top;\n",
              "    }\n",
              "\n",
              "    .dataframe thead th {\n",
              "        text-align: right;\n",
              "    }\n",
              "</style>\n",
              "<table border=\"1\" class=\"dataframe\">\n",
              "  <thead>\n",
              "    <tr style=\"text-align: right;\">\n",
              "      <th></th>\n",
              "      <th>name</th>\n",
              "      <th>smiles</th>\n",
              "      <th>solubility</th>\n",
              "    </tr>\n",
              "  </thead>\n",
              "  <tbody>\n",
              "    <tr>\n",
              "      <th>0</th>\n",
              "      <td>60-35-5</td>\n",
              "      <td>CC(N)=O</td>\n",
              "      <td>1.58</td>\n",
              "    </tr>\n",
              "    <tr>\n",
              "      <th>1</th>\n",
              "      <td>60-34-4</td>\n",
              "      <td>CNN</td>\n",
              "      <td>1.34</td>\n",
              "    </tr>\n",
              "    <tr>\n",
              "      <th>2</th>\n",
              "      <td>64-19-7</td>\n",
              "      <td>CC(O)=O</td>\n",
              "      <td>1.22</td>\n",
              "    </tr>\n",
              "  </tbody>\n",
              "</table>\n",
              "</div>"
            ],
            "text/plain": [
              "      name   smiles  solubility\n",
              "0  60-35-5  CC(N)=O        1.58\n",
              "1  60-34-4      CNN        1.34\n",
              "2  64-19-7  CC(O)=O        1.22"
            ]
          },
          "metadata": {
            "tags": []
          },
          "execution_count": 12
        }
      ]
    },
    {
      "cell_type": "code",
      "metadata": {
        "colab": {
          "base_uri": "https://localhost:8080/"
        },
        "id": "rA9h4LJQNurZ",
        "outputId": "ec52cd6d-6b89-4b97-d4cc-bf7a58f31bbc"
      },
      "source": [
        "data.shape"
      ],
      "execution_count": null,
      "outputs": [
        {
          "output_type": "execute_result",
          "data": {
            "text/plain": [
              "(1311, 3)"
            ]
          },
          "metadata": {
            "tags": []
          },
          "execution_count": 13
        }
      ]
    },
    {
      "cell_type": "code",
      "metadata": {
        "colab": {
          "base_uri": "https://localhost:8080/",
          "height": 697
        },
        "id": "lEfMFULu3-IU",
        "outputId": "06226252-1850-4448-a885-69c059de8bfb"
      },
      "source": [
        "PandasTools.AddMoleculeColumnToFrame(data,'smiles','molecule') # adds molecule RDKit objects in the column 'molecule'\n",
        "data.head(3)\n"
      ],
      "execution_count": null,
      "outputs": [
        {
          "output_type": "execute_result",
          "data": {
            "text/html": [
              "<div>\n",
              "<style scoped>\n",
              "    .dataframe tbody tr th:only-of-type {\n",
              "        vertical-align: middle;\n",
              "    }\n",
              "\n",
              "    .dataframe tbody tr th {\n",
              "        vertical-align: top;\n",
              "    }\n",
              "\n",
              "    .dataframe thead th {\n",
              "        text-align: right;\n",
              "    }\n",
              "</style>\n",
              "<table border=\"1\" class=\"dataframe\">\n",
              "  <thead>\n",
              "    <tr style=\"text-align: right;\">\n",
              "      <th></th>\n",
              "      <th>name</th>\n",
              "      <th>smiles</th>\n",
              "      <th>solubility</th>\n",
              "      <th>molecule</th>\n",
              "    </tr>\n",
              "  </thead>\n",
              "  <tbody>\n",
              "    <tr>\n",
              "      <th>0</th>\n",
              "      <td>60-35-5</td>\n",
              "      <td>CC(N)=O</td>\n",
              "      <td>1.58</td>\n",
              "      <td><img data-content=\"rdkit/molecule\" src=\"data:image/png;base64,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\" alt=\"Mol\"/></td>\n",
              "    </tr>\n",
              "    <tr>\n",
              "      <th>1</th>\n",
              "      <td>60-34-4</td>\n",
              "      <td>CNN</td>\n",
              "      <td>1.34</td>\n",
              "      <td><img data-content=\"rdkit/molecule\" src=\"data:image/png;base64,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\" alt=\"Mol\"/></td>\n",
              "    </tr>\n",
              "    <tr>\n",
              "      <th>2</th>\n",
              "      <td>64-19-7</td>\n",
              "      <td>CC(O)=O</td>\n",
              "      <td>1.22</td>\n",
              "      <td><img data-content=\"rdkit/molecule\" src=\"data:image/png;base64,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\" alt=\"Mol\"/></td>\n",
              "    </tr>\n",
              "  </tbody>\n",
              "</table>\n",
              "</div>"
            ],
            "text/plain": [
              "      name  ...                                           molecule\n",
              "0  60-35-5  ...  <img data-content=\"rdkit/molecule\" src=\"data:i...\n",
              "1  60-34-4  ...  <img data-content=\"rdkit/molecule\" src=\"data:i...\n",
              "2  64-19-7  ...  <img data-content=\"rdkit/molecule\" src=\"data:i...\n",
              "\n",
              "[3 rows x 4 columns]"
            ]
          },
          "metadata": {
            "tags": []
          },
          "execution_count": 14
        }
      ]
    },
    {
      "cell_type": "code",
      "metadata": {
        "id": "qNVhlfA2Ga-T"
      },
      "source": [
        "def EStateFingerprints (mol): #returns EState fingerprint for a RDKit molecule object\n",
        "  return Fingerprinter.FingerprintMol(mol)[0]"
      ],
      "execution_count": null,
      "outputs": []
    },
    {
      "cell_type": "code",
      "metadata": {
        "id": "jeZcdQl3_SWc"
      },
      "source": [
        "data[\"EState_fingerprint\"] = data[\"molecule\"].apply(EStateFingerprints) # adds column with fingerprints\n",
        "data[\"Molecule's_weight\"] = data [\"molecule\"].apply(Descriptors.MolWt) #adds column with molecular weight of the molecules"
      ],
      "execution_count": null,
      "outputs": []
    },
    {
      "cell_type": "code",
      "metadata": {
        "colab": {
          "base_uri": "https://localhost:8080/",
          "height": 265
        },
        "id": "u6i6sYJaHsfN",
        "outputId": "397b9b28-18a5-491a-b323-b1382c1950f5"
      },
      "source": [
        "data.head(1)"
      ],
      "execution_count": null,
      "outputs": [
        {
          "output_type": "execute_result",
          "data": {
            "text/html": [
              "<div>\n",
              "<style scoped>\n",
              "    .dataframe tbody tr th:only-of-type {\n",
              "        vertical-align: middle;\n",
              "    }\n",
              "\n",
              "    .dataframe tbody tr th {\n",
              "        vertical-align: top;\n",
              "    }\n",
              "\n",
              "    .dataframe thead th {\n",
              "        text-align: right;\n",
              "    }\n",
              "</style>\n",
              "<table border=\"1\" class=\"dataframe\">\n",
              "  <thead>\n",
              "    <tr style=\"text-align: right;\">\n",
              "      <th></th>\n",
              "      <th>name</th>\n",
              "      <th>smiles</th>\n",
              "      <th>solubility</th>\n",
              "      <th>molecule</th>\n",
              "      <th>EState_fingerprint</th>\n",
              "      <th>Molecule's_weight</th>\n",
              "    </tr>\n",
              "  </thead>\n",
              "  <tbody>\n",
              "    <tr>\n",
              "      <th>0</th>\n",
              "      <td>60-35-5</td>\n",
              "      <td>CC(N)=O</td>\n",
              "      <td>1.58</td>\n",
              "      <td><img data-content=\"rdkit/molecule\" src=\"data:image/png;base64,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\" alt=\"Mol\"/></td>\n",
              "      <td>[0, 0, 0, 0, 0, 0, 1, 0, 0, 0, 0, 0, 0, 0, 0, ...</td>\n",
              "      <td>59.068</td>\n",
              "    </tr>\n",
              "  </tbody>\n",
              "</table>\n",
              "</div>"
            ],
            "text/plain": [
              "      name  ... Molecule's_weight\n",
              "0  60-35-5  ...            59.068\n",
              "\n",
              "[1 rows x 6 columns]"
            ]
          },
          "metadata": {
            "tags": []
          },
          "execution_count": 17
        }
      ]
    },
    {
      "cell_type": "code",
      "metadata": {
        "colab": {
          "base_uri": "https://localhost:8080/",
          "height": 321
        },
        "id": "2t8mBmtlJNcK",
        "outputId": "4e7926d7-bd4d-476a-b5f5-6be15b7b3535"
      },
      "source": [
        "#ESTate fingerprint visualization\n",
        "plt.stem(data.EState_fingerprint[20])\n",
        "plt.show()\n"
      ],
      "execution_count": null,
      "outputs": [
        {
          "output_type": "stream",
          "text": [
            "/usr/local/lib/python3.7/dist-packages/ipykernel_launcher.py:2: UserWarning: In Matplotlib 3.3 individual lines on a stem plot will be added as a LineCollection instead of individual lines. This significantly improves the performance of a stem plot. To remove this warning and switch to the new behaviour, set the \"use_line_collection\" keyword argument to True.\n",
            "  \n"
          ],
          "name": "stderr"
        },
        {
          "output_type": "display_data",
          "data": {
            "image/png": "[encoded data removed]",
            "text/plain": [
              "<Figure size 432x288 with 1 Axes>"
            ]
          },
          "metadata": {
            "tags": [],
            "needs_background": "light"
          }
        }
      ]
    },
    {
      "cell_type": "markdown",
      "metadata": {
        "id": "FLP9zgZcL45e"
      },
      "source": [
        "## Preparing the training and testing dataset in scikit-learn"
      ]
    },
    {
      "cell_type": "code",
      "metadata": {
        "colab": {
          "base_uri": "https://localhost:8080/"
        },
        "id": "2WgkaKp_Hubn",
        "outputId": "0541f477-f3a7-4112-919d-d4607ee8e4d5"
      },
      "source": [
        "# features (descriptors) for the model\n",
        "temp = np.array(list(data[\"EState_fingerprint\"]))\n",
        "X = np.zeros((temp.shape[0],temp.shape[1]+1))\n",
        "for k,elem in enumerate(temp):\n",
        "  X[k] = np.append(elem, data[\"Molecule's_weight\"].values[k] )\n",
        "X.shape"
      ],
      "execution_count": null,
      "outputs": [
        {
          "output_type": "execute_result",
          "data": {
            "text/plain": [
              "(1311, 80)"
            ]
          },
          "metadata": {
            "tags": []
          },
          "execution_count": 19
        }
      ]
    },
    {
      "cell_type": "code",
      "metadata": {
        "id": "z5lEHdguQ-Az"
      },
      "source": [
        "Y = data['solubility'].values # labels (targets) for the model"
      ],
      "execution_count": null,
      "outputs": []
    },
    {
      "cell_type": "code",
      "metadata": {
        "id": "f-R156YuVfif"
      },
      "source": [
        "#Scale X to unit variance and zero mean\n",
        "st = StandardScaler()\n",
        "X= st.fit_transform(X)\n",
        "#Divide into train and test set\n",
        "X_train, X_test, Y_train, Y_test = train_test_split(X, Y, test_size=0.25, random_state=42)"
      ],
      "execution_count": null,
      "outputs": []
    },
    {
      "cell_type": "markdown",
      "metadata": {
        "id": "G7fBuEjiXCfb"
      },
      "source": [
        "## Defining architecture of the model in Keras"
      ]
    },
    {
      "cell_type": "code",
      "metadata": {
        "id": "Uomhde1JXBi4"
      },
      "source": [
        "# We will use sequential model with 1 hidden layer of 5 neurons (small size of neurons prevents overfitting if regularization is not used)\n",
        "# the output layer of 1 neuron and linear activation fucntion (to predict positive value of solubility).\n",
        "model = keras.Sequential(\n",
        "    [   keras.Input(shape=(80,)),  # shape of input is an array with 80 elements which encodes a molecule\n",
        "        layers.Dense(5, activation=\"sigmoid\", name=\"hiden_layer\"), # hidden layer with 5 neurons\n",
        "        layers.Dense(1, activation='linear') # output layer with 1 neuron\n",
        "    ]\n",
        ")\n",
        "\n"
      ],
      "execution_count": null,
      "outputs": []
    },
    {
      "cell_type": "code",
      "metadata": {
        "colab": {
          "base_uri": "https://localhost:8080/"
        },
        "id": "NGHYmbd42fut",
        "outputId": "4153a25f-ad69-4e99-d41d-db77fd415925"
      },
      "source": [
        "model.summary() # descripton of the model structure"
      ],
      "execution_count": null,
      "outputs": [
        {
          "output_type": "stream",
          "text": [
            "Model: \"sequential\"\n",
            "_________________________________________________________________\n",
            "Layer (type)                 Output Shape              Param #   \n",
            "=================================================================\n",
            "hiden_layer (Dense)          (None, 5)                 405       \n",
            "_________________________________________________________________\n",
            "dense (Dense)                (None, 1)                 6         \n",
            "=================================================================\n",
            "Total params: 411\n",
            "Trainable params: 411\n",
            "Non-trainable params: 0\n",
            "_________________________________________________________________\n"
          ],
          "name": "stdout"
        }
      ]
    },
    {
      "cell_type": "code",
      "metadata": {
        "id": "gP6FyRWgx5WY"
      },
      "source": [
        "# choosing loss (cost) function, optimizer (stochastic gradient descent), and some other parameters\n",
        "optimizer = keras.optimizers.SGD(learning_rate=0.01, momentum=0.9, nesterov=False, name='SGD')\n",
        "model.compile(loss='mean_squared_error', optimizer =  optimizer)"
      ],
      "execution_count": null,
      "outputs": []
    },
    {
      "cell_type": "code",
      "metadata": {
        "colab": {
          "base_uri": "https://localhost:8080/",
          "height": 163
        },
        "id": "FpxksDnA6UWu",
        "outputId": "7e7ca9f9-26ab-47fd-896f-106c52e2a397"
      },
      "source": [
        "%load_ext tensorboard\n",
        "%tensorboard --logdir logs"
      ],
      "execution_count": null,
      "outputs": [
        {
          "output_type": "stream",
          "text": [
            "The tensorboard extension is already loaded. To reload it, use:\n",
            "  %reload_ext tensorboard\n"
          ],
          "name": "stdout"
        },
        {
          "output_type": "display_data",
          "data": {
            "text/plain": [
              "ERROR: Failed to launch TensorBoard (exited with 1).\n",
              "Contents of stderr:\n",
              "Traceback (most recent call last):\n",
              "  File \"/usr/local/bin/tensorboard\", line 5, in <module>\n",
              "    from tensorboard.main import run_main\n",
              "ModuleNotFoundError: No module named 'tensorboard'"
            ]
          },
          "metadata": {
            "tags": []
          }
        }
      ]
    },
    {
      "cell_type": "markdown",
      "metadata": {
        "id": "zymavIbyzvht"
      },
      "source": [
        "#Training the model"
      ]
    },
    {
      "cell_type": "code",
      "metadata": {
        "colab": {
          "base_uri": "https://localhost:8080/"
        },
        "id": "81SJNu3Zzswk",
        "outputId": "532cf773-80a8-4dbc-d78e-70c29632cb1d"
      },
      "source": [
        "history = model.fit(X_train, Y_train, epochs=500, batch_size=32) # process of training is saved in the Keras hisroty object"
      ],
      "execution_count": null,
      "outputs": [
        {
          "output_type": "stream",
          "text": [
            "Epoch 1/500\n",
            "31/31 [==============================] - 0s 988us/step - loss: 0.2472\n",
            "Epoch 2/500\n",
            "31/31 [==============================] - 0s 911us/step - loss: 0.2488\n",
            "Epoch 3/500\n",
            "31/31 [==============================] - 0s 901us/step - loss: 0.2455\n",
            "Epoch 4/500\n",
            "31/31 [==============================] - 0s 1ms/step - loss: 0.2574\n",
            "Epoch 5/500\n",
            "31/31 [==============================] - 0s 857us/step - loss: 0.2502\n",
            "Epoch 6/500\n",
            "31/31 [==============================] - 0s 929us/step - loss: 0.2450\n",
            "Epoch 7/500\n",
            "31/31 [==============================] - 0s 935us/step - loss: 0.2436\n",
            "Epoch 8/500\n",
            "31/31 [==============================] - 0s 869us/step - loss: 0.2476\n",
            "Epoch 9/500\n",
            "31/31 [==============================] - 0s 846us/step - loss: 0.2503\n",
            "Epoch 10/500\n",
            "31/31 [==============================] - 0s 797us/step - loss: 0.2472\n",
            "Epoch 11/500\n",
            "31/31 [==============================] - 0s 1ms/step - loss: 0.2462\n",
            "Epoch 12/500\n",
            "31/31 [==============================] - 0s 1ms/step - loss: 0.2453\n",
            "Epoch 13/500\n",
            "31/31 [==============================] - 0s 981us/step - loss: 0.2506\n",
            "Epoch 14/500\n",
            "31/31 [==============================] - 0s 1ms/step - loss: 0.2486\n",
            "Epoch 15/500\n",
            "31/31 [==============================] - 0s 906us/step - loss: 0.2512\n",
            "Epoch 16/500\n",
            "31/31 [==============================] - 0s 846us/step - loss: 0.2485\n",
            "Epoch 17/500\n",
            "31/31 [==============================] - 0s 857us/step - loss: 0.2465\n",
            "Epoch 18/500\n",
            "31/31 [==============================] - 0s 1ms/step - loss: 0.2498\n",
            "Epoch 19/500\n",
            "31/31 [==============================] - 0s 903us/step - loss: 0.2481\n",
            "Epoch 20/500\n",
            "31/31 [==============================] - 0s 940us/step - loss: 0.2471\n",
            "Epoch 21/500\n",
            "31/31 [==============================] - 0s 1ms/step - loss: 0.2553\n",
            "Epoch 22/500\n",
            "31/31 [==============================] - 0s 1ms/step - loss: 0.2505\n",
            "Epoch 23/500\n",
            "31/31 [==============================] - 0s 1ms/step - loss: 0.2516\n",
            "Epoch 24/500\n",
            "31/31 [==============================] - 0s 990us/step - loss: 0.2468\n",
            "Epoch 25/500\n",
            "31/31 [==============================] - 0s 1ms/step - loss: 0.2462\n",
            "Epoch 26/500\n",
            "31/31 [==============================] - 0s 941us/step - loss: 0.2494\n",
            "Epoch 27/500\n",
            "31/31 [==============================] - 0s 1ms/step - loss: 0.2476\n",
            "Epoch 28/500\n",
            "31/31 [==============================] - 0s 1ms/step - loss: 0.2472\n",
            "Epoch 29/500\n",
            "31/31 [==============================] - 0s 1ms/step - loss: 0.2438\n",
            "Epoch 30/500\n",
            "31/31 [==============================] - 0s 1ms/step - loss: 0.2471\n",
            "Epoch 31/500\n",
            "31/31 [==============================] - 0s 968us/step - loss: 0.2476\n",
            "Epoch 32/500\n",
            "31/31 [==============================] - 0s 1ms/step - loss: 0.2447\n",
            "Epoch 33/500\n",
            "31/31 [==============================] - 0s 927us/step - loss: 0.2459\n",
            "Epoch 34/500\n",
            "31/31 [==============================] - 0s 903us/step - loss: 0.2475\n",
            "Epoch 35/500\n",
            "31/31 [==============================] - 0s 1ms/step - loss: 0.2474\n",
            "Epoch 36/500\n",
            "31/31 [==============================] - 0s 1ms/step - loss: 0.2511\n",
            "Epoch 37/500\n",
            "31/31 [==============================] - 0s 1ms/step - loss: 0.2458\n",
            "Epoch 38/500\n",
            "31/31 [==============================] - 0s 919us/step - loss: 0.2466\n",
            "Epoch 39/500\n",
            "31/31 [==============================] - 0s 1ms/step - loss: 0.2442\n",
            "Epoch 40/500\n",
            "31/31 [==============================] - 0s 1ms/step - loss: 0.2484\n",
            "Epoch 41/500\n",
            "31/31 [==============================] - 0s 1ms/step - loss: 0.2558\n",
            "Epoch 42/500\n",
            "31/31 [==============================] - 0s 1ms/step - loss: 0.2562\n",
            "Epoch 43/500\n",
            "31/31 [==============================] - 0s 961us/step - loss: 0.2458\n",
            "Epoch 44/500\n",
            "31/31 [==============================] - 0s 1ms/step - loss: 0.2478\n",
            "Epoch 45/500\n",
            "31/31 [==============================] - 0s 924us/step - loss: 0.2453\n",
            "Epoch 46/500\n",
            "31/31 [==============================] - 0s 908us/step - loss: 0.2506\n",
            "Epoch 47/500\n",
            "31/31 [==============================] - 0s 1ms/step - loss: 0.2473\n",
            "Epoch 48/500\n",
            "31/31 [==============================] - 0s 1ms/step - loss: 0.2512\n",
            "Epoch 49/500\n",
            "31/31 [==============================] - 0s 1ms/step - loss: 0.2482\n",
            "Epoch 50/500\n",
            "31/31 [==============================] - 0s 1ms/step - loss: 0.2484\n",
            "Epoch 51/500\n",
            "31/31 [==============================] - 0s 1ms/step - loss: 0.2467\n",
            "Epoch 52/500\n",
            "31/31 [==============================] - 0s 1ms/step - loss: 0.2456\n",
            "Epoch 53/500\n",
            "31/31 [==============================] - 0s 1ms/step - loss: 0.2533\n",
            "Epoch 54/500\n",
            "31/31 [==============================] - 0s 1ms/step - loss: 0.2480\n",
            "Epoch 55/500\n",
            "31/31 [==============================] - 0s 903us/step - loss: 0.2533\n",
            "Epoch 56/500\n",
            "31/31 [==============================] - 0s 1ms/step - loss: 0.2582\n",
            "Epoch 57/500\n",
            "31/31 [==============================] - 0s 1ms/step - loss: 0.2506\n",
            "Epoch 58/500\n",
            "31/31 [==============================] - 0s 1ms/step - loss: 0.2514\n",
            "Epoch 59/500\n",
            "31/31 [==============================] - 0s 1ms/step - loss: 0.2545\n",
            "Epoch 60/500\n",
            "31/31 [==============================] - 0s 961us/step - loss: 0.2439\n",
            "Epoch 61/500\n",
            "31/31 [==============================] - 0s 1ms/step - loss: 0.2464\n",
            "Epoch 62/500\n",
            "31/31 [==============================] - 0s 998us/step - loss: 0.2476\n",
            "Epoch 63/500\n",
            "31/31 [==============================] - 0s 927us/step - loss: 0.2485\n",
            "Epoch 64/500\n",
            "31/31 [==============================] - 0s 1ms/step - loss: 0.2459\n",
            "Epoch 65/500\n",
            "31/31 [==============================] - 0s 1ms/step - loss: 0.2466\n",
            "Epoch 66/500\n",
            "31/31 [==============================] - 0s 1ms/step - loss: 0.2484\n",
            "Epoch 67/500\n",
            "31/31 [==============================] - 0s 1ms/step - loss: 0.2537\n",
            "Epoch 68/500\n",
            "31/31 [==============================] - 0s 1ms/step - loss: 0.2534\n",
            "Epoch 69/500\n",
            "31/31 [==============================] - 0s 1ms/step - loss: 0.2507\n",
            "Epoch 70/500\n",
            "31/31 [==============================] - 0s 1ms/step - loss: 0.2439\n",
            "Epoch 71/500\n",
            "31/31 [==============================] - 0s 1ms/step - loss: 0.2499\n",
            "Epoch 72/500\n",
            "31/31 [==============================] - 0s 909us/step - loss: 0.2461\n",
            "Epoch 73/500\n",
            "31/31 [==============================] - 0s 1ms/step - loss: 0.2459\n",
            "Epoch 74/500\n",
            "31/31 [==============================] - 0s 1ms/step - loss: 0.2465\n",
            "Epoch 75/500\n",
            "31/31 [==============================] - 0s 1ms/step - loss: 0.2451\n",
            "Epoch 76/500\n",
            "31/31 [==============================] - 0s 962us/step - loss: 0.2509\n",
            "Epoch 77/500\n",
            "31/31 [==============================] - 0s 1ms/step - loss: 0.2462\n",
            "Epoch 78/500\n",
            "31/31 [==============================] - 0s 1ms/step - loss: 0.2475\n",
            "Epoch 79/500\n",
            "31/31 [==============================] - 0s 969us/step - loss: 0.2471\n",
            "Epoch 80/500\n",
            "31/31 [==============================] - 0s 1ms/step - loss: 0.2457\n",
            "Epoch 81/500\n",
            "31/31 [==============================] - 0s 941us/step - loss: 0.2458\n",
            "Epoch 82/500\n",
            "31/31 [==============================] - 0s 1ms/step - loss: 0.2469\n",
            "Epoch 83/500\n",
            "31/31 [==============================] - 0s 1ms/step - loss: 0.2457\n",
            "Epoch 84/500\n",
            "31/31 [==============================] - 0s 889us/step - loss: 0.2450\n",
            "Epoch 85/500\n",
            "31/31 [==============================] - 0s 1ms/step - loss: 0.2460\n",
            "Epoch 86/500\n",
            "31/31 [==============================] - 0s 1ms/step - loss: 0.2469\n",
            "Epoch 87/500\n",
            "31/31 [==============================] - 0s 1ms/step - loss: 0.2532\n",
            "Epoch 88/500\n",
            "31/31 [==============================] - 0s 961us/step - loss: 0.2485\n",
            "Epoch 89/500\n",
            "31/31 [==============================] - 0s 1ms/step - loss: 0.2444\n",
            "Epoch 90/500\n",
            "31/31 [==============================] - 0s 1ms/step - loss: 0.2468\n",
            "Epoch 91/500\n",
            "31/31 [==============================] - 0s 1ms/step - loss: 0.2410\n",
            "Epoch 92/500\n",
            "31/31 [==============================] - 0s 953us/step - loss: 0.2454\n",
            "Epoch 93/500\n",
            "31/31 [==============================] - 0s 1ms/step - loss: 0.2491\n",
            "Epoch 94/500\n",
            "31/31 [==============================] - 0s 1ms/step - loss: 0.2518\n",
            "Epoch 95/500\n",
            "31/31 [==============================] - 0s 945us/step - loss: 0.2446\n",
            "Epoch 96/500\n",
            "31/31 [==============================] - 0s 932us/step - loss: 0.2433\n",
            "Epoch 97/500\n",
            "31/31 [==============================] - 0s 999us/step - loss: 0.2501\n",
            "Epoch 98/500\n",
            "31/31 [==============================] - 0s 1ms/step - loss: 0.2489\n",
            "Epoch 99/500\n",
            "31/31 [==============================] - 0s 1ms/step - loss: 0.2477\n",
            "Epoch 100/500\n",
            "31/31 [==============================] - 0s 1ms/step - loss: 0.2487\n",
            "Epoch 101/500\n",
            "31/31 [==============================] - 0s 1ms/step - loss: 0.2530\n",
            "Epoch 102/500\n",
            "31/31 [==============================] - 0s 1ms/step - loss: 0.2502\n",
            "Epoch 103/500\n",
            "31/31 [==============================] - 0s 1ms/step - loss: 0.2510\n",
            "Epoch 104/500\n",
            "31/31 [==============================] - 0s 1ms/step - loss: 0.2462\n",
            "Epoch 105/500\n",
            "31/31 [==============================] - 0s 1ms/step - loss: 0.2480\n",
            "Epoch 106/500\n",
            "31/31 [==============================] - 0s 943us/step - loss: 0.2458\n",
            "Epoch 107/500\n",
            "31/31 [==============================] - 0s 1ms/step - loss: 0.2444\n",
            "Epoch 108/500\n",
            "31/31 [==============================] - 0s 937us/step - loss: 0.2428\n",
            "Epoch 109/500\n",
            "31/31 [==============================] - 0s 928us/step - loss: 0.2439\n",
            "Epoch 110/500\n",
            "31/31 [==============================] - 0s 1ms/step - loss: 0.2530\n",
            "Epoch 111/500\n",
            "31/31 [==============================] - 0s 1ms/step - loss: 0.2509\n",
            "Epoch 112/500\n",
            "31/31 [==============================] - 0s 1ms/step - loss: 0.2503\n",
            "Epoch 113/500\n",
            "31/31 [==============================] - 0s 979us/step - loss: 0.2493\n",
            "Epoch 114/500\n",
            "31/31 [==============================] - 0s 971us/step - loss: 0.2489\n",
            "Epoch 115/500\n",
            "31/31 [==============================] - 0s 977us/step - loss: 0.2476\n",
            "Epoch 116/500\n",
            "31/31 [==============================] - 0s 989us/step - loss: 0.2505\n",
            "Epoch 117/500\n",
            "31/31 [==============================] - 0s 944us/step - loss: 0.2511\n",
            "Epoch 118/500\n",
            "31/31 [==============================] - 0s 1ms/step - loss: 0.2499\n",
            "Epoch 119/500\n",
            "31/31 [==============================] - 0s 951us/step - loss: 0.2442\n",
            "Epoch 120/500\n",
            "31/31 [==============================] - 0s 1ms/step - loss: 0.2502\n",
            "Epoch 121/500\n",
            "31/31 [==============================] - 0s 1ms/step - loss: 0.2587\n",
            "Epoch 122/500\n",
            "31/31 [==============================] - 0s 1ms/step - loss: 0.2529\n",
            "Epoch 123/500\n",
            "31/31 [==============================] - 0s 1ms/step - loss: 0.2471\n",
            "Epoch 124/500\n",
            "31/31 [==============================] - 0s 1ms/step - loss: 0.2444\n",
            "Epoch 125/500\n",
            "31/31 [==============================] - 0s 1ms/step - loss: 0.2475\n",
            "Epoch 126/500\n",
            "31/31 [==============================] - 0s 972us/step - loss: 0.2454\n",
            "Epoch 127/500\n",
            "31/31 [==============================] - 0s 1ms/step - loss: 0.2484\n",
            "Epoch 128/500\n",
            "31/31 [==============================] - 0s 1ms/step - loss: 0.2490\n",
            "Epoch 129/500\n",
            "31/31 [==============================] - 0s 994us/step - loss: 0.2449\n",
            "Epoch 130/500\n",
            "31/31 [==============================] - 0s 970us/step - loss: 0.2493\n",
            "Epoch 131/500\n",
            "31/31 [==============================] - 0s 1ms/step - loss: 0.2468\n",
            "Epoch 132/500\n",
            "31/31 [==============================] - 0s 994us/step - loss: 0.2536\n",
            "Epoch 133/500\n",
            "31/31 [==============================] - 0s 987us/step - loss: 0.2493\n",
            "Epoch 134/500\n",
            "31/31 [==============================] - 0s 1ms/step - loss: 0.2506\n",
            "Epoch 135/500\n",
            "31/31 [==============================] - 0s 941us/step - loss: 0.2521\n",
            "Epoch 136/500\n",
            "31/31 [==============================] - 0s 1ms/step - loss: 0.2563\n",
            "Epoch 137/500\n",
            "31/31 [==============================] - 0s 1ms/step - loss: 0.2452\n",
            "Epoch 138/500\n",
            "31/31 [==============================] - 0s 1ms/step - loss: 0.2528\n",
            "Epoch 139/500\n",
            "31/31 [==============================] - 0s 1ms/step - loss: 0.2555\n",
            "Epoch 140/500\n",
            "31/31 [==============================] - 0s 1ms/step - loss: 0.2487\n",
            "Epoch 141/500\n",
            "31/31 [==============================] - 0s 925us/step - loss: 0.2435\n",
            "Epoch 142/500\n",
            "31/31 [==============================] - 0s 987us/step - loss: 0.2476\n",
            "Epoch 143/500\n",
            "31/31 [==============================] - 0s 1ms/step - loss: 0.2483\n",
            "Epoch 144/500\n",
            "31/31 [==============================] - 0s 1ms/step - loss: 0.2527\n",
            "Epoch 145/500\n",
            "31/31 [==============================] - 0s 1ms/step - loss: 0.2521\n",
            "Epoch 146/500\n",
            "31/31 [==============================] - 0s 1ms/step - loss: 0.2505\n",
            "Epoch 147/500\n",
            "31/31 [==============================] - 0s 1ms/step - loss: 0.2447\n",
            "Epoch 148/500\n",
            "31/31 [==============================] - 0s 1ms/step - loss: 0.2467\n",
            "Epoch 149/500\n",
            "31/31 [==============================] - 0s 1ms/step - loss: 0.2518\n",
            "Epoch 150/500\n",
            "31/31 [==============================] - 0s 2ms/step - loss: 0.2461\n",
            "Epoch 151/500\n",
            "31/31 [==============================] - 0s 1ms/step - loss: 0.2471\n",
            "Epoch 152/500\n",
            "31/31 [==============================] - 0s 1ms/step - loss: 0.2476\n",
            "Epoch 153/500\n",
            "31/31 [==============================] - 0s 1ms/step - loss: 0.2450\n",
            "Epoch 154/500\n",
            "31/31 [==============================] - 0s 1ms/step - loss: 0.2442\n",
            "Epoch 155/500\n",
            "31/31 [==============================] - 0s 1ms/step - loss: 0.2546\n",
            "Epoch 156/500\n",
            "31/31 [==============================] - 0s 983us/step - loss: 0.2537\n",
            "Epoch 157/500\n",
            "31/31 [==============================] - 0s 948us/step - loss: 0.2442\n",
            "Epoch 158/500\n",
            "31/31 [==============================] - 0s 1ms/step - loss: 0.2484\n",
            "Epoch 159/500\n",
            "31/31 [==============================] - 0s 956us/step - loss: 0.2529\n",
            "Epoch 160/500\n",
            "31/31 [==============================] - 0s 1ms/step - loss: 0.2475\n",
            "Epoch 161/500\n",
            "31/31 [==============================] - 0s 1ms/step - loss: 0.2435\n",
            "Epoch 162/500\n",
            "31/31 [==============================] - 0s 1ms/step - loss: 0.2496\n",
            "Epoch 163/500\n",
            "31/31 [==============================] - 0s 1ms/step - loss: 0.2485\n",
            "Epoch 164/500\n",
            "31/31 [==============================] - 0s 998us/step - loss: 0.2445\n",
            "Epoch 165/500\n",
            "31/31 [==============================] - 0s 1ms/step - loss: 0.2469\n",
            "Epoch 166/500\n",
            "31/31 [==============================] - 0s 1ms/step - loss: 0.2473\n",
            "Epoch 167/500\n",
            "31/31 [==============================] - 0s 1ms/step - loss: 0.2482\n",
            "Epoch 168/500\n",
            "31/31 [==============================] - 0s 1ms/step - loss: 0.2503\n",
            "Epoch 169/500\n",
            "31/31 [==============================] - 0s 1ms/step - loss: 0.2496\n",
            "Epoch 170/500\n",
            "31/31 [==============================] - 0s 1ms/step - loss: 0.2469\n",
            "Epoch 171/500\n",
            "31/31 [==============================] - 0s 1ms/step - loss: 0.2493\n",
            "Epoch 172/500\n",
            "31/31 [==============================] - 0s 1ms/step - loss: 0.2448\n",
            "Epoch 173/500\n",
            "31/31 [==============================] - 0s 1ms/step - loss: 0.2482\n",
            "Epoch 174/500\n",
            "31/31 [==============================] - 0s 1ms/step - loss: 0.2667\n",
            "Epoch 175/500\n",
            "31/31 [==============================] - 0s 1ms/step - loss: 0.2550\n",
            "Epoch 176/500\n",
            "31/31 [==============================] - 0s 1ms/step - loss: 0.2502\n",
            "Epoch 177/500\n",
            "31/31 [==============================] - 0s 1ms/step - loss: 0.2478\n",
            "Epoch 178/500\n",
            "31/31 [==============================] - 0s 1ms/step - loss: 0.2517\n",
            "Epoch 179/500\n",
            "31/31 [==============================] - 0s 1ms/step - loss: 0.2507\n",
            "Epoch 180/500\n",
            "31/31 [==============================] - 0s 1ms/step - loss: 0.2470\n",
            "Epoch 181/500\n",
            "31/31 [==============================] - 0s 1ms/step - loss: 0.2489\n",
            "Epoch 182/500\n",
            "31/31 [==============================] - 0s 1ms/step - loss: 0.2520\n",
            "Epoch 183/500\n",
            "31/31 [==============================] - 0s 1ms/step - loss: 0.2541\n",
            "Epoch 184/500\n",
            "31/31 [==============================] - 0s 1ms/step - loss: 0.2449\n",
            "Epoch 185/500\n",
            "31/31 [==============================] - 0s 1ms/step - loss: 0.2466\n",
            "Epoch 186/500\n",
            "31/31 [==============================] - 0s 951us/step - loss: 0.2495\n",
            "Epoch 187/500\n",
            "31/31 [==============================] - 0s 1ms/step - loss: 0.2484\n",
            "Epoch 188/500\n",
            "31/31 [==============================] - 0s 1ms/step - loss: 0.2526\n",
            "Epoch 189/500\n",
            "31/31 [==============================] - 0s 1ms/step - loss: 0.2512\n",
            "Epoch 190/500\n",
            "31/31 [==============================] - 0s 1ms/step - loss: 0.2464\n",
            "Epoch 191/500\n",
            "31/31 [==============================] - 0s 1ms/step - loss: 0.2477\n",
            "Epoch 192/500\n",
            "31/31 [==============================] - 0s 1ms/step - loss: 0.2437\n",
            "Epoch 193/500\n",
            "31/31 [==============================] - 0s 993us/step - loss: 0.2445\n",
            "Epoch 194/500\n",
            "31/31 [==============================] - 0s 1ms/step - loss: 0.2479\n",
            "Epoch 195/500\n",
            "31/31 [==============================] - 0s 977us/step - loss: 0.2454\n",
            "Epoch 196/500\n",
            "31/31 [==============================] - 0s 976us/step - loss: 0.2434\n",
            "Epoch 197/500\n",
            "31/31 [==============================] - 0s 1ms/step - loss: 0.2474\n",
            "Epoch 198/500\n",
            "31/31 [==============================] - 0s 1ms/step - loss: 0.2440\n",
            "Epoch 199/500\n",
            "31/31 [==============================] - 0s 1ms/step - loss: 0.2528\n",
            "Epoch 200/500\n",
            "31/31 [==============================] - 0s 1ms/step - loss: 0.2453\n",
            "Epoch 201/500\n",
            "31/31 [==============================] - 0s 1ms/step - loss: 0.2441\n",
            "Epoch 202/500\n",
            "31/31 [==============================] - 0s 1ms/step - loss: 0.2471\n",
            "Epoch 203/500\n",
            "31/31 [==============================] - 0s 1ms/step - loss: 0.2482\n",
            "Epoch 204/500\n",
            "31/31 [==============================] - 0s 1ms/step - loss: 0.2525\n",
            "Epoch 205/500\n",
            "31/31 [==============================] - 0s 1ms/step - loss: 0.2493\n",
            "Epoch 206/500\n",
            "31/31 [==============================] - 0s 957us/step - loss: 0.2502\n",
            "Epoch 207/500\n",
            "31/31 [==============================] - 0s 998us/step - loss: 0.2479\n",
            "Epoch 208/500\n",
            "31/31 [==============================] - 0s 1ms/step - loss: 0.2478\n",
            "Epoch 209/500\n",
            "31/31 [==============================] - 0s 934us/step - loss: 0.2502\n",
            "Epoch 210/500\n",
            "31/31 [==============================] - 0s 1ms/step - loss: 0.2465\n",
            "Epoch 211/500\n",
            "31/31 [==============================] - 0s 938us/step - loss: 0.2474\n",
            "Epoch 212/500\n",
            "31/31 [==============================] - 0s 1ms/step - loss: 0.2500\n",
            "Epoch 213/500\n",
            "31/31 [==============================] - 0s 1ms/step - loss: 0.2537\n",
            "Epoch 214/500\n",
            "31/31 [==============================] - 0s 2ms/step - loss: 0.2461\n",
            "Epoch 215/500\n",
            "31/31 [==============================] - 0s 1ms/step - loss: 0.2470\n",
            "Epoch 216/500\n",
            "31/31 [==============================] - 0s 1ms/step - loss: 0.2501\n",
            "Epoch 217/500\n",
            "31/31 [==============================] - 0s 1ms/step - loss: 0.2473\n",
            "Epoch 218/500\n",
            "31/31 [==============================] - 0s 1ms/step - loss: 0.2455\n",
            "Epoch 219/500\n",
            "31/31 [==============================] - 0s 1ms/step - loss: 0.2505\n",
            "Epoch 220/500\n",
            "31/31 [==============================] - 0s 1ms/step - loss: 0.2455\n",
            "Epoch 221/500\n",
            "31/31 [==============================] - 0s 1ms/step - loss: 0.2503\n",
            "Epoch 222/500\n",
            "31/31 [==============================] - 0s 1ms/step - loss: 0.2469\n",
            "Epoch 223/500\n",
            "31/31 [==============================] - 0s 1ms/step - loss: 0.2461\n",
            "Epoch 224/500\n",
            "31/31 [==============================] - 0s 978us/step - loss: 0.2449\n",
            "Epoch 225/500\n",
            "31/31 [==============================] - 0s 1ms/step - loss: 0.2510\n",
            "Epoch 226/500\n",
            "31/31 [==============================] - 0s 997us/step - loss: 0.2448\n",
            "Epoch 227/500\n",
            "31/31 [==============================] - 0s 1ms/step - loss: 0.2515\n",
            "Epoch 228/500\n",
            "31/31 [==============================] - 0s 1ms/step - loss: 0.2503\n",
            "Epoch 229/500\n",
            "31/31 [==============================] - 0s 1ms/step - loss: 0.2506\n",
            "Epoch 230/500\n",
            "31/31 [==============================] - 0s 1ms/step - loss: 0.2493\n",
            "Epoch 231/500\n",
            "31/31 [==============================] - 0s 1ms/step - loss: 0.2488\n",
            "Epoch 232/500\n",
            "31/31 [==============================] - 0s 1ms/step - loss: 0.2478\n",
            "Epoch 233/500\n",
            "31/31 [==============================] - 0s 1ms/step - loss: 0.2481\n",
            "Epoch 234/500\n",
            "31/31 [==============================] - 0s 995us/step - loss: 0.2465\n",
            "Epoch 235/500\n",
            "31/31 [==============================] - 0s 1ms/step - loss: 0.2466\n",
            "Epoch 236/500\n",
            "31/31 [==============================] - 0s 1ms/step - loss: 0.2501\n",
            "Epoch 237/500\n",
            "31/31 [==============================] - 0s 983us/step - loss: 0.2488\n",
            "Epoch 238/500\n",
            "31/31 [==============================] - 0s 1ms/step - loss: 0.2456\n",
            "Epoch 239/500\n",
            "31/31 [==============================] - 0s 1ms/step - loss: 0.2508\n",
            "Epoch 240/500\n",
            "31/31 [==============================] - 0s 1ms/step - loss: 0.2509\n",
            "Epoch 241/500\n",
            "31/31 [==============================] - 0s 993us/step - loss: 0.2474\n",
            "Epoch 242/500\n",
            "31/31 [==============================] - 0s 999us/step - loss: 0.2565\n",
            "Epoch 243/500\n",
            "31/31 [==============================] - 0s 994us/step - loss: 0.2475\n",
            "Epoch 244/500\n",
            "31/31 [==============================] - 0s 926us/step - loss: 0.2460\n",
            "Epoch 245/500\n",
            "31/31 [==============================] - 0s 1ms/step - loss: 0.2455\n",
            "Epoch 246/500\n",
            "31/31 [==============================] - 0s 1ms/step - loss: 0.2474\n",
            "Epoch 247/500\n",
            "31/31 [==============================] - 0s 1ms/step - loss: 0.2476\n",
            "Epoch 248/500\n",
            "31/31 [==============================] - 0s 1ms/step - loss: 0.2455\n",
            "Epoch 249/500\n",
            "31/31 [==============================] - 0s 1ms/step - loss: 0.2493\n",
            "Epoch 250/500\n",
            "31/31 [==============================] - 0s 965us/step - loss: 0.2522\n",
            "Epoch 251/500\n",
            "31/31 [==============================] - 0s 1ms/step - loss: 0.2472\n",
            "Epoch 252/500\n",
            "31/31 [==============================] - 0s 1ms/step - loss: 0.2473\n",
            "Epoch 253/500\n",
            "31/31 [==============================] - 0s 1ms/step - loss: 0.2442\n",
            "Epoch 254/500\n",
            "31/31 [==============================] - 0s 1ms/step - loss: 0.2438\n",
            "Epoch 255/500\n",
            "31/31 [==============================] - 0s 1ms/step - loss: 0.2482\n",
            "Epoch 256/500\n",
            "31/31 [==============================] - 0s 1ms/step - loss: 0.2464\n",
            "Epoch 257/500\n",
            "31/31 [==============================] - 0s 1ms/step - loss: 0.2487\n",
            "Epoch 258/500\n",
            "31/31 [==============================] - 0s 1ms/step - loss: 0.2487\n",
            "Epoch 259/500\n",
            "31/31 [==============================] - 0s 1ms/step - loss: 0.2478\n",
            "Epoch 260/500\n",
            "31/31 [==============================] - 0s 1ms/step - loss: 0.2475\n",
            "Epoch 261/500\n",
            "31/31 [==============================] - 0s 1ms/step - loss: 0.2465\n",
            "Epoch 262/500\n",
            "31/31 [==============================] - 0s 1ms/step - loss: 0.2449\n",
            "Epoch 263/500\n",
            "31/31 [==============================] - 0s 987us/step - loss: 0.2483\n",
            "Epoch 264/500\n",
            "31/31 [==============================] - 0s 1ms/step - loss: 0.2521\n",
            "Epoch 265/500\n",
            "31/31 [==============================] - 0s 979us/step - loss: 0.2506\n",
            "Epoch 266/500\n",
            "31/31 [==============================] - 0s 962us/step - loss: 0.2458\n",
            "Epoch 267/500\n",
            "31/31 [==============================] - 0s 1ms/step - loss: 0.2458\n",
            "Epoch 268/500\n",
            "31/31 [==============================] - 0s 1000us/step - loss: 0.2470\n",
            "Epoch 269/500\n",
            "31/31 [==============================] - 0s 986us/step - loss: 0.2478\n",
            "Epoch 270/500\n",
            "31/31 [==============================] - 0s 1ms/step - loss: 0.2460\n",
            "Epoch 271/500\n",
            "31/31 [==============================] - 0s 1ms/step - loss: 0.2454\n",
            "Epoch 272/500\n",
            "31/31 [==============================] - 0s 1ms/step - loss: 0.2450\n",
            "Epoch 273/500\n",
            "31/31 [==============================] - 0s 1ms/step - loss: 0.2444\n",
            "Epoch 274/500\n",
            "31/31 [==============================] - 0s 1ms/step - loss: 0.2488\n",
            "Epoch 275/500\n",
            "31/31 [==============================] - 0s 1ms/step - loss: 0.2463\n",
            "Epoch 276/500\n",
            "31/31 [==============================] - 0s 1ms/step - loss: 0.2453\n",
            "Epoch 277/500\n",
            "31/31 [==============================] - 0s 1ms/step - loss: 0.2456\n",
            "Epoch 278/500\n",
            "31/31 [==============================] - 0s 1ms/step - loss: 0.2472\n",
            "Epoch 279/500\n",
            "31/31 [==============================] - 0s 1ms/step - loss: 0.2452\n",
            "Epoch 280/500\n",
            "31/31 [==============================] - 0s 1ms/step - loss: 0.2584\n",
            "Epoch 281/500\n",
            "31/31 [==============================] - 0s 1ms/step - loss: 0.2492\n",
            "Epoch 282/500\n",
            "31/31 [==============================] - 0s 1ms/step - loss: 0.2484\n",
            "Epoch 283/500\n",
            "31/31 [==============================] - 0s 1ms/step - loss: 0.2463\n",
            "Epoch 284/500\n",
            "31/31 [==============================] - 0s 1ms/step - loss: 0.2430\n",
            "Epoch 285/500\n",
            "31/31 [==============================] - 0s 1ms/step - loss: 0.2459\n",
            "Epoch 286/500\n",
            "31/31 [==============================] - 0s 1ms/step - loss: 0.2471\n",
            "Epoch 287/500\n",
            "31/31 [==============================] - 0s 1ms/step - loss: 0.2461\n",
            "Epoch 288/500\n",
            "31/31 [==============================] - 0s 1ms/step - loss: 0.2456\n",
            "Epoch 289/500\n",
            "31/31 [==============================] - 0s 1ms/step - loss: 0.2478\n",
            "Epoch 290/500\n",
            "31/31 [==============================] - 0s 1ms/step - loss: 0.2559\n",
            "Epoch 291/500\n",
            "31/31 [==============================] - 0s 964us/step - loss: 0.2533\n",
            "Epoch 292/500\n",
            "31/31 [==============================] - 0s 1ms/step - loss: 0.2469\n",
            "Epoch 293/500\n",
            "31/31 [==============================] - 0s 1ms/step - loss: 0.2441\n",
            "Epoch 294/500\n",
            "31/31 [==============================] - 0s 1ms/step - loss: 0.2474\n",
            "Epoch 295/500\n",
            "31/31 [==============================] - 0s 1ms/step - loss: 0.2500\n",
            "Epoch 296/500\n",
            "31/31 [==============================] - 0s 1ms/step - loss: 0.2459\n",
            "Epoch 297/500\n",
            "31/31 [==============================] - 0s 1ms/step - loss: 0.2444\n",
            "Epoch 298/500\n",
            "31/31 [==============================] - 0s 1ms/step - loss: 0.2516\n",
            "Epoch 299/500\n",
            "31/31 [==============================] - 0s 1ms/step - loss: 0.2514\n",
            "Epoch 300/500\n",
            "31/31 [==============================] - 0s 1ms/step - loss: 0.2532\n",
            "Epoch 301/500\n",
            "31/31 [==============================] - 0s 1ms/step - loss: 0.2455\n",
            "Epoch 302/500\n",
            "31/31 [==============================] - 0s 1ms/step - loss: 0.2476\n",
            "Epoch 303/500\n",
            "31/31 [==============================] - 0s 1ms/step - loss: 0.2522\n",
            "Epoch 304/500\n",
            "31/31 [==============================] - 0s 1ms/step - loss: 0.2489\n",
            "Epoch 305/500\n",
            "31/31 [==============================] - 0s 1ms/step - loss: 0.2642\n",
            "Epoch 306/500\n",
            "31/31 [==============================] - 0s 1ms/step - loss: 0.2500\n",
            "Epoch 307/500\n",
            "31/31 [==============================] - 0s 1ms/step - loss: 0.2573\n",
            "Epoch 308/500\n",
            "31/31 [==============================] - 0s 1ms/step - loss: 0.2510\n",
            "Epoch 309/500\n",
            "31/31 [==============================] - 0s 1ms/step - loss: 0.2482\n",
            "Epoch 310/500\n",
            "31/31 [==============================] - 0s 1ms/step - loss: 0.2440\n",
            "Epoch 311/500\n",
            "31/31 [==============================] - 0s 1ms/step - loss: 0.2511\n",
            "Epoch 312/500\n",
            "31/31 [==============================] - 0s 1ms/step - loss: 0.2458\n",
            "Epoch 313/500\n",
            "31/31 [==============================] - 0s 1ms/step - loss: 0.2506\n",
            "Epoch 314/500\n",
            "31/31 [==============================] - 0s 1ms/step - loss: 0.2471\n",
            "Epoch 315/500\n",
            "31/31 [==============================] - 0s 1ms/step - loss: 0.2489\n",
            "Epoch 316/500\n",
            "31/31 [==============================] - 0s 1ms/step - loss: 0.2452\n",
            "Epoch 317/500\n",
            "31/31 [==============================] - 0s 1ms/step - loss: 0.2478\n",
            "Epoch 318/500\n",
            "31/31 [==============================] - 0s 1ms/step - loss: 0.2465\n",
            "Epoch 319/500\n",
            "31/31 [==============================] - 0s 1ms/step - loss: 0.2459\n",
            "Epoch 320/500\n",
            "31/31 [==============================] - 0s 1ms/step - loss: 0.2469\n",
            "Epoch 321/500\n",
            "31/31 [==============================] - 0s 951us/step - loss: 0.2489\n",
            "Epoch 322/500\n",
            "31/31 [==============================] - 0s 1ms/step - loss: 0.2482\n",
            "Epoch 323/500\n",
            "31/31 [==============================] - 0s 1ms/step - loss: 0.2488\n",
            "Epoch 324/500\n",
            "31/31 [==============================] - 0s 1ms/step - loss: 0.2480\n",
            "Epoch 325/500\n",
            "31/31 [==============================] - 0s 1ms/step - loss: 0.2515\n",
            "Epoch 326/500\n",
            "31/31 [==============================] - 0s 1ms/step - loss: 0.2534\n",
            "Epoch 327/500\n",
            "31/31 [==============================] - 0s 1ms/step - loss: 0.2498\n",
            "Epoch 328/500\n",
            "31/31 [==============================] - 0s 965us/step - loss: 0.2492\n",
            "Epoch 329/500\n",
            "31/31 [==============================] - 0s 1ms/step - loss: 0.2469\n",
            "Epoch 330/500\n",
            "31/31 [==============================] - 0s 1ms/step - loss: 0.2461\n",
            "Epoch 331/500\n",
            "31/31 [==============================] - 0s 1ms/step - loss: 0.2486\n",
            "Epoch 332/500\n",
            "31/31 [==============================] - 0s 1ms/step - loss: 0.2467\n",
            "Epoch 333/500\n",
            "31/31 [==============================] - 0s 1ms/step - loss: 0.2469\n",
            "Epoch 334/500\n",
            "31/31 [==============================] - 0s 1ms/step - loss: 0.2479\n",
            "Epoch 335/500\n",
            "31/31 [==============================] - 0s 1ms/step - loss: 0.2475\n",
            "Epoch 336/500\n",
            "31/31 [==============================] - 0s 994us/step - loss: 0.2470\n",
            "Epoch 337/500\n",
            "31/31 [==============================] - 0s 1ms/step - loss: 0.2525\n",
            "Epoch 338/500\n",
            "31/31 [==============================] - 0s 1ms/step - loss: 0.2478\n",
            "Epoch 339/500\n",
            "31/31 [==============================] - 0s 1ms/step - loss: 0.2445\n",
            "Epoch 340/500\n",
            "31/31 [==============================] - 0s 1ms/step - loss: 0.2493\n",
            "Epoch 341/500\n",
            "31/31 [==============================] - 0s 1ms/step - loss: 0.2448\n",
            "Epoch 342/500\n",
            "31/31 [==============================] - 0s 1ms/step - loss: 0.2473\n",
            "Epoch 343/500\n",
            "31/31 [==============================] - 0s 1ms/step - loss: 0.2448\n",
            "Epoch 344/500\n",
            "31/31 [==============================] - 0s 2ms/step - loss: 0.2510\n",
            "Epoch 345/500\n",
            "31/31 [==============================] - 0s 1ms/step - loss: 0.2484\n",
            "Epoch 346/500\n",
            "31/31 [==============================] - 0s 1ms/step - loss: 0.2516\n",
            "Epoch 347/500\n",
            "31/31 [==============================] - 0s 1ms/step - loss: 0.2483\n",
            "Epoch 348/500\n",
            "31/31 [==============================] - 0s 1ms/step - loss: 0.2466\n",
            "Epoch 349/500\n",
            "31/31 [==============================] - 0s 1ms/step - loss: 0.2435\n",
            "Epoch 350/500\n",
            "31/31 [==============================] - 0s 1ms/step - loss: 0.2448\n",
            "Epoch 351/500\n",
            "31/31 [==============================] - 0s 1ms/step - loss: 0.2468\n",
            "Epoch 352/500\n",
            "31/31 [==============================] - 0s 1ms/step - loss: 0.2462\n",
            "Epoch 353/500\n",
            "31/31 [==============================] - 0s 1ms/step - loss: 0.2483\n",
            "Epoch 354/500\n",
            "31/31 [==============================] - 0s 1ms/step - loss: 0.2506\n",
            "Epoch 355/500\n",
            "31/31 [==============================] - 0s 1ms/step - loss: 0.2467\n",
            "Epoch 356/500\n",
            "31/31 [==============================] - 0s 1ms/step - loss: 0.2506\n",
            "Epoch 357/500\n",
            "31/31 [==============================] - 0s 1ms/step - loss: 0.2467\n",
            "Epoch 358/500\n",
            "31/31 [==============================] - 0s 1ms/step - loss: 0.2501\n",
            "Epoch 359/500\n",
            "31/31 [==============================] - 0s 1ms/step - loss: 0.2448\n",
            "Epoch 360/500\n",
            "31/31 [==============================] - 0s 2ms/step - loss: 0.2450\n",
            "Epoch 361/500\n",
            "31/31 [==============================] - 0s 1ms/step - loss: 0.2453\n",
            "Epoch 362/500\n",
            "31/31 [==============================] - 0s 1ms/step - loss: 0.2477\n",
            "Epoch 363/500\n",
            "31/31 [==============================] - 0s 1ms/step - loss: 0.2419\n",
            "Epoch 364/500\n",
            "31/31 [==============================] - 0s 1ms/step - loss: 0.2439\n",
            "Epoch 365/500\n",
            "31/31 [==============================] - 0s 1ms/step - loss: 0.2469\n",
            "Epoch 366/500\n",
            "31/31 [==============================] - 0s 1ms/step - loss: 0.2494\n",
            "Epoch 367/500\n",
            "31/31 [==============================] - 0s 1ms/step - loss: 0.2440\n",
            "Epoch 368/500\n",
            "31/31 [==============================] - 0s 1ms/step - loss: 0.2466\n",
            "Epoch 369/500\n",
            "31/31 [==============================] - 0s 1ms/step - loss: 0.2509\n",
            "Epoch 370/500\n",
            "31/31 [==============================] - 0s 976us/step - loss: 0.2625\n",
            "Epoch 371/500\n",
            "31/31 [==============================] - 0s 999us/step - loss: 0.2504\n",
            "Epoch 372/500\n",
            "31/31 [==============================] - 0s 1ms/step - loss: 0.2500\n",
            "Epoch 373/500\n",
            "31/31 [==============================] - 0s 2ms/step - loss: 0.2458\n",
            "Epoch 374/500\n",
            "31/31 [==============================] - 0s 1ms/step - loss: 0.2458\n",
            "Epoch 375/500\n",
            "31/31 [==============================] - 0s 1ms/step - loss: 0.2452\n",
            "Epoch 376/500\n",
            "31/31 [==============================] - 0s 1ms/step - loss: 0.2486\n",
            "Epoch 377/500\n",
            "31/31 [==============================] - 0s 1ms/step - loss: 0.2455\n",
            "Epoch 378/500\n",
            "31/31 [==============================] - 0s 1ms/step - loss: 0.2575\n",
            "Epoch 379/500\n",
            "31/31 [==============================] - 0s 1ms/step - loss: 0.2457\n",
            "Epoch 380/500\n",
            "31/31 [==============================] - 0s 1ms/step - loss: 0.2457\n",
            "Epoch 381/500\n",
            "31/31 [==============================] - 0s 1ms/step - loss: 0.2457\n",
            "Epoch 382/500\n",
            "31/31 [==============================] - 0s 968us/step - loss: 0.2480\n",
            "Epoch 383/500\n",
            "31/31 [==============================] - 0s 1ms/step - loss: 0.2479\n",
            "Epoch 384/500\n",
            "31/31 [==============================] - 0s 1ms/step - loss: 0.2454\n",
            "Epoch 385/500\n",
            "31/31 [==============================] - 0s 1ms/step - loss: 0.2471\n",
            "Epoch 386/500\n",
            "31/31 [==============================] - 0s 1ms/step - loss: 0.2502\n",
            "Epoch 387/500\n",
            "31/31 [==============================] - 0s 1ms/step - loss: 0.2465\n",
            "Epoch 388/500\n",
            "31/31 [==============================] - 0s 1ms/step - loss: 0.2462\n",
            "Epoch 389/500\n",
            "31/31 [==============================] - 0s 1ms/step - loss: 0.2486\n",
            "Epoch 390/500\n",
            "31/31 [==============================] - 0s 1ms/step - loss: 0.2510\n",
            "Epoch 391/500\n",
            "31/31 [==============================] - 0s 1ms/step - loss: 0.2470\n",
            "Epoch 392/500\n",
            "31/31 [==============================] - 0s 1ms/step - loss: 0.2476\n",
            "Epoch 393/500\n",
            "31/31 [==============================] - 0s 1ms/step - loss: 0.2446\n",
            "Epoch 394/500\n",
            "31/31 [==============================] - 0s 1ms/step - loss: 0.2474\n",
            "Epoch 395/500\n",
            "31/31 [==============================] - 0s 1ms/step - loss: 0.2492\n",
            "Epoch 396/500\n",
            "31/31 [==============================] - 0s 1ms/step - loss: 0.2473\n",
            "Epoch 397/500\n",
            "31/31 [==============================] - 0s 1ms/step - loss: 0.2521\n",
            "Epoch 398/500\n",
            "31/31 [==============================] - 0s 1ms/step - loss: 0.2559\n",
            "Epoch 399/500\n",
            "31/31 [==============================] - 0s 1ms/step - loss: 0.2438\n",
            "Epoch 400/500\n",
            "31/31 [==============================] - 0s 1ms/step - loss: 0.2513\n",
            "Epoch 401/500\n",
            "31/31 [==============================] - 0s 996us/step - loss: 0.2486\n",
            "Epoch 402/500\n",
            "31/31 [==============================] - 0s 1ms/step - loss: 0.2416\n",
            "Epoch 403/500\n",
            "31/31 [==============================] - 0s 1ms/step - loss: 0.2535\n",
            "Epoch 404/500\n",
            "31/31 [==============================] - 0s 1ms/step - loss: 0.2497\n",
            "Epoch 405/500\n",
            "31/31 [==============================] - 0s 1ms/step - loss: 0.2512\n",
            "Epoch 406/500\n",
            "31/31 [==============================] - 0s 1ms/step - loss: 0.2440\n",
            "Epoch 407/500\n",
            "31/31 [==============================] - 0s 1ms/step - loss: 0.2443\n",
            "Epoch 408/500\n",
            "31/31 [==============================] - 0s 1ms/step - loss: 0.2501\n",
            "Epoch 409/500\n",
            "31/31 [==============================] - 0s 1ms/step - loss: 0.2475\n",
            "Epoch 410/500\n",
            "31/31 [==============================] - 0s 1ms/step - loss: 0.2477\n",
            "Epoch 411/500\n",
            "31/31 [==============================] - 0s 1ms/step - loss: 0.2500\n",
            "Epoch 412/500\n",
            "31/31 [==============================] - 0s 1ms/step - loss: 0.2456\n",
            "Epoch 413/500\n",
            "31/31 [==============================] - 0s 1ms/step - loss: 0.2511\n",
            "Epoch 414/500\n",
            "31/31 [==============================] - 0s 1ms/step - loss: 0.2478\n",
            "Epoch 415/500\n",
            "31/31 [==============================] - 0s 1ms/step - loss: 0.2519\n",
            "Epoch 416/500\n",
            "31/31 [==============================] - 0s 1ms/step - loss: 0.2563\n",
            "Epoch 417/500\n",
            "31/31 [==============================] - 0s 983us/step - loss: 0.2505\n",
            "Epoch 418/500\n",
            "31/31 [==============================] - 0s 1ms/step - loss: 0.2449\n",
            "Epoch 419/500\n",
            "31/31 [==============================] - 0s 1ms/step - loss: 0.2457\n",
            "Epoch 420/500\n",
            "31/31 [==============================] - 0s 1ms/step - loss: 0.2453\n",
            "Epoch 421/500\n",
            "31/31 [==============================] - 0s 1ms/step - loss: 0.2444\n",
            "Epoch 422/500\n",
            "31/31 [==============================] - 0s 1ms/step - loss: 0.2459\n",
            "Epoch 423/500\n",
            "31/31 [==============================] - 0s 1ms/step - loss: 0.2462\n",
            "Epoch 424/500\n",
            "31/31 [==============================] - 0s 979us/step - loss: 0.2547\n",
            "Epoch 425/500\n",
            "31/31 [==============================] - 0s 1ms/step - loss: 0.2490\n",
            "Epoch 426/500\n",
            "31/31 [==============================] - 0s 1ms/step - loss: 0.2508\n",
            "Epoch 427/500\n",
            "31/31 [==============================] - 0s 1ms/step - loss: 0.2416\n",
            "Epoch 428/500\n",
            "31/31 [==============================] - 0s 1ms/step - loss: 0.2482\n",
            "Epoch 429/500\n",
            "31/31 [==============================] - 0s 1ms/step - loss: 0.2483\n",
            "Epoch 430/500\n",
            "31/31 [==============================] - 0s 1ms/step - loss: 0.2453\n",
            "Epoch 431/500\n",
            "31/31 [==============================] - 0s 1ms/step - loss: 0.2440\n",
            "Epoch 432/500\n",
            "31/31 [==============================] - 0s 1ms/step - loss: 0.2435\n",
            "Epoch 433/500\n",
            "31/31 [==============================] - 0s 1ms/step - loss: 0.2504\n",
            "Epoch 434/500\n",
            "31/31 [==============================] - 0s 1ms/step - loss: 0.2536\n",
            "Epoch 435/500\n",
            "31/31 [==============================] - 0s 1ms/step - loss: 0.2495\n",
            "Epoch 436/500\n",
            "31/31 [==============================] - 0s 1ms/step - loss: 0.2439\n",
            "Epoch 437/500\n",
            "31/31 [==============================] - 0s 1ms/step - loss: 0.2494\n",
            "Epoch 438/500\n",
            "31/31 [==============================] - 0s 1ms/step - loss: 0.2449\n",
            "Epoch 439/500\n",
            "31/31 [==============================] - 0s 2ms/step - loss: 0.2494\n",
            "Epoch 440/500\n",
            "31/31 [==============================] - 0s 1ms/step - loss: 0.2453\n",
            "Epoch 441/500\n",
            "31/31 [==============================] - 0s 1ms/step - loss: 0.2552\n",
            "Epoch 442/500\n",
            "31/31 [==============================] - 0s 1ms/step - loss: 0.2477\n",
            "Epoch 443/500\n",
            "31/31 [==============================] - 0s 1ms/step - loss: 0.2452\n",
            "Epoch 444/500\n",
            "31/31 [==============================] - 0s 1ms/step - loss: 0.2468\n",
            "Epoch 445/500\n",
            "31/31 [==============================] - 0s 1ms/step - loss: 0.2499\n",
            "Epoch 446/500\n",
            "31/31 [==============================] - 0s 1ms/step - loss: 0.2465\n",
            "Epoch 447/500\n",
            "31/31 [==============================] - 0s 1ms/step - loss: 0.2431\n",
            "Epoch 448/500\n",
            "31/31 [==============================] - 0s 1ms/step - loss: 0.2499\n",
            "Epoch 449/500\n",
            "31/31 [==============================] - 0s 984us/step - loss: 0.2492\n",
            "Epoch 450/500\n",
            "31/31 [==============================] - 0s 983us/step - loss: 0.2431\n",
            "Epoch 451/500\n",
            "31/31 [==============================] - 0s 1ms/step - loss: 0.2513\n",
            "Epoch 452/500\n",
            "31/31 [==============================] - 0s 1ms/step - loss: 0.2433\n",
            "Epoch 453/500\n",
            "31/31 [==============================] - 0s 1ms/step - loss: 0.2476\n",
            "Epoch 454/500\n",
            "31/31 [==============================] - 0s 1ms/step - loss: 0.2491\n",
            "Epoch 455/500\n",
            "31/31 [==============================] - 0s 1ms/step - loss: 0.2490\n",
            "Epoch 456/500\n",
            "31/31 [==============================] - 0s 1ms/step - loss: 0.2529\n",
            "Epoch 457/500\n",
            "31/31 [==============================] - 0s 1ms/step - loss: 0.2483\n",
            "Epoch 458/500\n",
            "31/31 [==============================] - 0s 1ms/step - loss: 0.2472\n",
            "Epoch 459/500\n",
            "31/31 [==============================] - 0s 1ms/step - loss: 0.2482\n",
            "Epoch 460/500\n",
            "31/31 [==============================] - 0s 1ms/step - loss: 0.2468\n",
            "Epoch 461/500\n",
            "31/31 [==============================] - 0s 1ms/step - loss: 0.2436\n",
            "Epoch 462/500\n",
            "31/31 [==============================] - 0s 1ms/step - loss: 0.2443\n",
            "Epoch 463/500\n",
            "31/31 [==============================] - 0s 1ms/step - loss: 0.2459\n",
            "Epoch 464/500\n",
            "31/31 [==============================] - 0s 1ms/step - loss: 0.2433\n",
            "Epoch 465/500\n",
            "31/31 [==============================] - 0s 1ms/step - loss: 0.2501\n",
            "Epoch 466/500\n",
            "31/31 [==============================] - 0s 1ms/step - loss: 0.2512\n",
            "Epoch 467/500\n",
            "31/31 [==============================] - 0s 1ms/step - loss: 0.2527\n",
            "Epoch 468/500\n",
            "31/31 [==============================] - 0s 1ms/step - loss: 0.2451\n",
            "Epoch 469/500\n",
            "31/31 [==============================] - 0s 1ms/step - loss: 0.2465\n",
            "Epoch 470/500\n",
            "31/31 [==============================] - 0s 1ms/step - loss: 0.2483\n",
            "Epoch 471/500\n",
            "31/31 [==============================] - 0s 1ms/step - loss: 0.2436\n",
            "Epoch 472/500\n",
            "31/31 [==============================] - 0s 1ms/step - loss: 0.2464\n",
            "Epoch 473/500\n",
            "31/31 [==============================] - 0s 1ms/step - loss: 0.2486\n",
            "Epoch 474/500\n",
            "31/31 [==============================] - 0s 1ms/step - loss: 0.2458\n",
            "Epoch 475/500\n",
            "31/31 [==============================] - 0s 1ms/step - loss: 0.2435\n",
            "Epoch 476/500\n",
            "31/31 [==============================] - 0s 1ms/step - loss: 0.2420\n",
            "Epoch 477/500\n",
            "31/31 [==============================] - 0s 1ms/step - loss: 0.2476\n",
            "Epoch 478/500\n",
            "31/31 [==============================] - 0s 1ms/step - loss: 0.2460\n",
            "Epoch 479/500\n",
            "31/31 [==============================] - 0s 988us/step - loss: 0.2510\n",
            "Epoch 480/500\n",
            "31/31 [==============================] - 0s 1ms/step - loss: 0.2471\n",
            "Epoch 481/500\n",
            "31/31 [==============================] - 0s 1ms/step - loss: 0.2515\n",
            "Epoch 482/500\n",
            "31/31 [==============================] - 0s 1ms/step - loss: 0.2551\n",
            "Epoch 483/500\n",
            "31/31 [==============================] - 0s 1ms/step - loss: 0.2516\n",
            "Epoch 484/500\n",
            "31/31 [==============================] - 0s 1ms/step - loss: 0.2464\n",
            "Epoch 485/500\n",
            "31/31 [==============================] - 0s 1ms/step - loss: 0.2461\n",
            "Epoch 486/500\n",
            "31/31 [==============================] - 0s 1ms/step - loss: 0.2518\n",
            "Epoch 487/500\n",
            "31/31 [==============================] - 0s 1ms/step - loss: 0.2485\n",
            "Epoch 488/500\n",
            "31/31 [==============================] - 0s 1ms/step - loss: 0.2470\n",
            "Epoch 489/500\n",
            "31/31 [==============================] - 0s 1ms/step - loss: 0.2437\n",
            "Epoch 490/500\n",
            "31/31 [==============================] - 0s 1ms/step - loss: 0.2452\n",
            "Epoch 491/500\n",
            "31/31 [==============================] - 0s 1ms/step - loss: 0.2473\n",
            "Epoch 492/500\n",
            "31/31 [==============================] - 0s 1ms/step - loss: 0.2472\n",
            "Epoch 493/500\n",
            "31/31 [==============================] - 0s 1ms/step - loss: 0.2509\n",
            "Epoch 494/500\n",
            "31/31 [==============================] - 0s 1ms/step - loss: 0.2538\n",
            "Epoch 495/500\n",
            "31/31 [==============================] - 0s 1ms/step - loss: 0.2529\n",
            "Epoch 496/500\n",
            "31/31 [==============================] - 0s 1ms/step - loss: 0.2475\n",
            "Epoch 497/500\n",
            "31/31 [==============================] - 0s 1ms/step - loss: 0.2473\n",
            "Epoch 498/500\n",
            "31/31 [==============================] - 0s 1ms/step - loss: 0.2511\n",
            "Epoch 499/500\n",
            "31/31 [==============================] - 0s 1ms/step - loss: 0.2511\n",
            "Epoch 500/500\n",
            "31/31 [==============================] - 0s 1ms/step - loss: 0.2447\n"
          ],
          "name": "stdout"
        }
      ]
    },
    {
      "cell_type": "markdown",
      "metadata": {
        "id": "H6R9BrXl6eLz"
      },
      "source": [
        "##Using  graphs dashboard for examining the TensorFlow model"
      ]
    },
    {
      "cell_type": "code",
      "metadata": {
        "colab": {
          "base_uri": "https://localhost:8080/"
        },
        "id": "FwUQxov66EeS",
        "outputId": "40016ce5-0a23-4119-83e3-6d2fd5377c79"
      },
      "source": [
        "!tensorboard --logdir logs"
      ],
      "execution_count": null,
      "outputs": [
        {
          "output_type": "stream",
          "text": [
            "Traceback (most recent call last):\n",
            "  File \"/usr/local/bin/tensorboard\", line 5, in <module>\n",
            "    from tensorboard.main import run_main\n",
            "ModuleNotFoundError: No module named 'tensorboard'\n"
          ],
          "name": "stdout"
        }
      ]
    },
    {
      "cell_type": "markdown",
      "metadata": {
        "id": "V4exfvfp38O4"
      },
      "source": [
        "## Model evaluation (validation) in the case of overfitting"
      ]
    },
    {
      "cell_type": "code",
      "metadata": {
        "colab": {
          "base_uri": "https://localhost:8080/"
        },
        "id": "4vYp37a-6Dkn",
        "outputId": "cd41a12a-aedc-48f8-e076-a23a9311a187"
      },
      "source": [
        "X_test.shape"
      ],
      "execution_count": null,
      "outputs": [
        {
          "output_type": "execute_result",
          "data": {
            "text/plain": [
              "(328, 80)"
            ]
          },
          "metadata": {
            "tags": []
          },
          "execution_count": 39
        }
      ]
    },
    {
      "cell_type": "code",
      "metadata": {
        "colab": {
          "base_uri": "https://localhost:8080/"
        },
        "id": "D_XMhC_hzxv0",
        "outputId": "bfb4a232-3f33-4f5e-9b30-2ab35ec6ed3f"
      },
      "source": [
        "test_loss = model.evaluate(X_test, Y_test, batch_size = 32,  verbose=1) \n",
        "print('Test loss:', test_loss)\n",
        "\n",
        "\n"
      ],
      "execution_count": null,
      "outputs": [
        {
          "output_type": "stream",
          "text": [
            "11/11 [==============================] - 0s 1ms/step - loss: 0.7743\n",
            "Test loss: 0.7743154168128967\n"
          ],
          "name": "stdout"
        }
      ]
    },
    {
      "cell_type": "markdown",
      "metadata": {
        "id": "jbV66jeE6fd4"
      },
      "source": [
        "##Predictions on the testing dataset"
      ]
    },
    {
      "cell_type": "code",
      "metadata": {
        "id": "AZmJ1qFt6bxN"
      },
      "source": [
        ""
      ],
      "execution_count": null,
      "outputs": []
    },
    {
      "cell_type": "code",
      "metadata": {
        "colab": {
          "base_uri": "https://localhost:8080/"
        },
        "id": "YxZ689dk6arW",
        "outputId": "ada39924-13b8-439b-ee0a-391651b49082"
      },
      "source": [
        "Y_pred = model.predict(X_test, batch_size = 32, verbose=1 ) "
      ],
      "execution_count": null,
      "outputs": [
        {
          "output_type": "stream",
          "text": [
            "11/11 [==============================] - 0s 1ms/step\n"
          ],
          "name": "stdout"
        }
      ]
    },
    {
      "cell_type": "code",
      "metadata": {
        "colab": {
          "base_uri": "https://localhost:8080/"
        },
        "id": "O3mps1r04RNZ",
        "outputId": "d2c7d06e-3ac9-4393-a1a7-a67bf0679da7"
      },
      "source": [
        "#root mean square error\n",
        "rms = (np.mean((Y_test.reshape(-1,1) - Y_pred)**2))**0.5\n",
        "print ('RMS error: ', rms)"
      ],
      "execution_count": null,
      "outputs": [
        {
          "output_type": "stream",
          "text": [
            "RMS error:  0.841156298099735\n"
          ],
          "name": "stdout"
        }
      ]
    },
    {
      "cell_type": "code",
      "metadata": {
        "colab": {
          "base_uri": "https://localhost:8080/",
          "height": 422
        },
        "id": "eCd117nBWOwo",
        "outputId": "d0cf7105-6154-4c6c-cea9-319ab11ab6f7"
      },
      "source": [
        "import matplotlib.pyplot as plt\n",
        "plt.figure(figsize=(8,6))\n",
        "plt.scatter(Y_train,model.predict(X_train), label = 'Train', c='blue')\n",
        "plt.title('Neural Network Predictor')\n",
        "plt.xlabel('Measured Solubility')\n",
        "plt.ylabel('Predicted Solubility')\n",
        "plt.scatter(Y_test,Y_pred, c='lightgreen', label='Test', alpha = 0.8)\n",
        "plt.legend(loc=4)\n",
        "#plt.show()"
      ],
      "execution_count": null,
      "outputs": [
        {
          "output_type": "execute_result",
          "data": {
            "text/plain": [
              "<matplotlib.legend.Legend at 0x7fc494c07190>"
            ]
          },
          "metadata": {
            "tags": []
          },
          "execution_count": 108
        },
        {
          "output_type": "display_data",
          "data": {
            "image/png": "[encoded data removed]",
            "text/plain": [
              "<Figure size 576x432 with 1 Axes>"
            ]
          },
          "metadata": {
            "tags": [],
            "needs_background": "light"
          }
        }
      ]
    }
  ]
}